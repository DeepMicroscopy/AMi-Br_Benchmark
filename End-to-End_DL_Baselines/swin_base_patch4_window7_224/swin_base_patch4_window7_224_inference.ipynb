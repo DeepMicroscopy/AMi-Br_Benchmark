{
 "cells": [
  {
   "cell_type": "markdown",
   "metadata": {},
   "source": [
    "## AMi-Br Test Set"
   ]
  },
  {
   "cell_type": "code",
   "execution_count": 1,
   "metadata": {},
   "outputs": [
    {
     "name": "stderr",
     "output_type": "stream",
     "text": [
      "/tmp/ipykernel_3588337/787554177.py:81: FutureWarning: You are using `torch.load` with `weights_only=False` (the current default value), which uses the default pickle module implicitly. It is possible to construct malicious pickle data which will execute arbitrary code during unpickling (See https://github.com/pytorch/pytorch/blob/main/SECURITY.md#untrusted-models for more details). In a future release, the default value for `weights_only` will be flipped to `True`. This limits the functions that could be executed during unpickling. Arbitrary objects will no longer be allowed to be loaded via this mode unless they are explicitly allowlisted by the user via `torch.serialization.add_safe_globals`. We recommend you start setting `weights_only=True` for any use case where you don't have full control of the loaded file. Please open an issue on GitHub for any issues related to this experimental feature.\n",
      "  model.load_state_dict(torch.load(path, map_location=device))\n",
      "Inference Fold 1: 100%|██████████| 52/52 [00:01<00:00, 31.10it/s]\n"
     ]
    },
    {
     "name": "stdout",
     "output_type": "stream",
     "text": [
      "\n",
      "Fold 1 - Balanced Accuracy: 0.7987, AUROC: 0.9025\n"
     ]
    },
    {
     "name": "stderr",
     "output_type": "stream",
     "text": [
      "Inference Fold 2: 100%|██████████| 52/52 [00:01<00:00, 35.22it/s]\n"
     ]
    },
    {
     "name": "stdout",
     "output_type": "stream",
     "text": [
      "\n",
      "Fold 2 - Balanced Accuracy: 0.5373, AUROC: 0.6462\n"
     ]
    },
    {
     "name": "stderr",
     "output_type": "stream",
     "text": [
      "Inference Fold 3: 100%|██████████| 52/52 [00:01<00:00, 35.39it/s]\n"
     ]
    },
    {
     "name": "stdout",
     "output_type": "stream",
     "text": [
      "\n",
      "Fold 3 - Balanced Accuracy: 0.7929, AUROC: 0.8935\n"
     ]
    },
    {
     "name": "stderr",
     "output_type": "stream",
     "text": [
      "Inference Fold 4: 100%|██████████| 52/52 [00:01<00:00, 35.63it/s]\n"
     ]
    },
    {
     "name": "stdout",
     "output_type": "stream",
     "text": [
      "\n",
      "Fold 4 - Balanced Accuracy: 0.8068, AUROC: 0.8883\n"
     ]
    },
    {
     "name": "stderr",
     "output_type": "stream",
     "text": [
      "Inference Fold 5: 100%|██████████| 52/52 [00:01<00:00, 35.34it/s]"
     ]
    },
    {
     "name": "stdout",
     "output_type": "stream",
     "text": [
      "\n",
      "Fold 5 - Balanced Accuracy: 0.8100, AUROC: 0.8948\n",
      "\n",
      "--- Per-Fold Evaluation Summary (Swin Transformer) ---\n",
      "Balanced Accuracy: 0.7491 ± 0.1061\n",
      "AUROC: 0.8451 ± 0.0996\n",
      "\n",
      "Saved fold predictions and labels to: swin_amibr_predictions.pkl\n"
     ]
    },
    {
     "name": "stderr",
     "output_type": "stream",
     "text": [
      "\n"
     ]
    }
   ],
   "source": [
    "import os\n",
    "import torch\n",
    "import torch.nn as nn\n",
    "from torch.utils.data import Dataset, DataLoader\n",
    "from torchvision import transforms\n",
    "from PIL import Image\n",
    "from tqdm import tqdm\n",
    "import numpy as np\n",
    "import pandas as pd\n",
    "from sklearn.metrics import balanced_accuracy_score, roc_auc_score\n",
    "import timm\n",
    "import pickle\n",
    "\n",
    "# Device setup\n",
    "device = torch.device(\"cuda\" if torch.cuda.is_available() else \"cpu\")\n",
    "\n",
    "# Define transforms (matching validation transform from training)\n",
    "val_transform = transforms.Compose([\n",
    "    transforms.Resize((224, 224)),\n",
    "    transforms.ToTensor(),\n",
    "    transforms.Normalize([0.485, 0.456, 0.406], [0.229, 0.224, 0.225])\n",
    "])\n",
    "\n",
    "# Dataset class\n",
    "class InferenceDataset(Dataset):\n",
    "    def __init__(self, image_paths, labels, transform=None):\n",
    "        self.image_paths = image_paths\n",
    "        self.labels = labels\n",
    "        self.transform = transform\n",
    "\n",
    "    def __len__(self):\n",
    "        return len(self.image_paths)\n",
    "\n",
    "    def __getitem__(self, idx):\n",
    "        image = Image.open(self.image_paths[idx]).convert(\"RGB\")\n",
    "        if self.transform:\n",
    "            image = self.transform(image)\n",
    "        label = self.labels[idx]\n",
    "        return image, label\n",
    "\n",
    "# Swin Transformer model\n",
    "class BinarySwin(nn.Module):\n",
    "    def __init__(self):\n",
    "        super(BinarySwin, self).__init__()\n",
    "        self.model = timm.create_model('swin_base_patch4_window7_224', pretrained=False, num_classes=0)\n",
    "        self.pool = nn.AdaptiveAvgPool1d(1)\n",
    "        self.classifier = nn.Sequential(\n",
    "            nn.Flatten(),\n",
    "            nn.Linear(self.model.num_features, 1)\n",
    "        )\n",
    "\n",
    "    def forward(self, x):\n",
    "        x = self.model(x)\n",
    "        if x.ndim == 3:\n",
    "            x = self.pool(x)\n",
    "        return self.classifier(x)\n",
    "\n",
    "# Load test dataset\n",
    "test_root = \"/data/MELBA-AmiBr/Datasets_Stratified/AMi-Br/Test\"\n",
    "class_map = {\"Atypical\": 0, \"Normal\": 1}\n",
    "image_paths, labels = [], []\n",
    "\n",
    "for class_name, label_val in class_map.items():\n",
    "    class_folder = os.path.join(test_root, class_name)\n",
    "    for fname in os.listdir(class_folder):\n",
    "        if fname.lower().endswith(('.jpg', '.jpeg', '.png', '.tif')):\n",
    "            image_paths.append(os.path.join(class_folder, fname))\n",
    "            labels.append(label_val)\n",
    "\n",
    "# Prepare dataset and loader\n",
    "test_dataset = InferenceDataset(image_paths, labels, transform=val_transform)\n",
    "test_loader = DataLoader(test_dataset, batch_size=16, shuffle=False, num_workers=8, pin_memory=True)\n",
    "\n",
    "# Load models\n",
    "num_folds = 5\n",
    "model_paths = [f\"amibr_swin_base_patch4_window7_224_fold_{i + 1}_best.pth\" for i in range(num_folds)]\n",
    "models = []\n",
    "\n",
    "for path in model_paths:\n",
    "    model = BinarySwin().to(device)\n",
    "    model.load_state_dict(torch.load(path, map_location=device))\n",
    "    model.eval()\n",
    "    models.append(model)\n",
    "\n",
    "# Inference\n",
    "true_labels = np.array(labels)\n",
    "fold_bal_accs, fold_aurocs = [], []\n",
    "fold_probs_dict = {}\n",
    "\n",
    "for i, model in enumerate(models):\n",
    "    fold_probs = []\n",
    "\n",
    "    with torch.no_grad():\n",
    "        for images, _ in tqdm(test_loader, desc=f\"Inference Fold {i + 1}\"):\n",
    "            images = images.to(device)\n",
    "            outputs = model(images)\n",
    "            probs = torch.sigmoid(outputs).squeeze(1).cpu().numpy()\n",
    "            fold_probs.extend(probs)\n",
    "\n",
    "    fold_probs = np.array(fold_probs)\n",
    "    fold_preds = (fold_probs > 0.5).astype(int)\n",
    "\n",
    "    bal_acc = balanced_accuracy_score(true_labels, fold_preds)\n",
    "    auroc = roc_auc_score(true_labels, fold_probs)\n",
    "\n",
    "    fold_bal_accs.append(bal_acc)\n",
    "    fold_aurocs.append(auroc)\n",
    "\n",
    "    print(f\"\\nFold {i + 1} - Balanced Accuracy: {bal_acc:.4f}, AUROC: {auroc:.4f}\")\n",
    "\n",
    "    fold_probs_dict[f\"fold_{i + 1}\"] = {\n",
    "        \"probs\": fold_probs,\n",
    "        \"preds\": fold_preds,\n",
    "        \"true_labels\": true_labels\n",
    "    }\n",
    "\n",
    "# Summary\n",
    "mean_bal_acc = np.mean(fold_bal_accs)\n",
    "std_bal_acc = np.std(fold_bal_accs)\n",
    "mean_auroc = np.mean(fold_aurocs)\n",
    "std_auroc = np.std(fold_aurocs)\n",
    "\n",
    "print(\"\\n--- Per-Fold Evaluation Summary (Swin Transformer) ---\")\n",
    "print(f\"Balanced Accuracy: {mean_bal_acc:.4f} ± {std_bal_acc:.4f}\")\n",
    "print(f\"AUROC: {mean_auroc:.4f} ± {std_auroc:.4f}\")\n",
    "\n",
    "# Save predictions\n",
    "output_path = \"swin_amibr_predictions.pkl\"\n",
    "with open(output_path, \"wb\") as f:\n",
    "    pickle.dump(fold_probs_dict, f)\n",
    "\n",
    "print(f\"\\nSaved fold predictions and labels to: {output_path}\")\n"
   ]
  },
  {
   "cell_type": "markdown",
   "metadata": {},
   "source": [
    "## AtNorM-Br"
   ]
  },
  {
   "cell_type": "code",
   "execution_count": 2,
   "metadata": {},
   "outputs": [
    {
     "name": "stderr",
     "output_type": "stream",
     "text": [
      "/tmp/ipykernel_3588337/3712169355.py:81: FutureWarning: You are using `torch.load` with `weights_only=False` (the current default value), which uses the default pickle module implicitly. It is possible to construct malicious pickle data which will execute arbitrary code during unpickling (See https://github.com/pytorch/pytorch/blob/main/SECURITY.md#untrusted-models for more details). In a future release, the default value for `weights_only` will be flipped to `True`. This limits the functions that could be executed during unpickling. Arbitrary objects will no longer be allowed to be loaded via this mode unless they are explicitly allowlisted by the user via `torch.serialization.add_safe_globals`. We recommend you start setting `weights_only=True` for any use case where you don't have full control of the loaded file. Please open an issue on GitHub for any issues related to this experimental feature.\n",
      "  model.load_state_dict(torch.load(path, map_location=device))\n",
      "Inference Fold 1: 100%|██████████| 47/47 [00:01<00:00, 34.46it/s]\n"
     ]
    },
    {
     "name": "stdout",
     "output_type": "stream",
     "text": [
      "\n",
      "Fold 1 - Balanced Accuracy: 0.7566, AUROC: 0.8655\n"
     ]
    },
    {
     "name": "stderr",
     "output_type": "stream",
     "text": [
      "Inference Fold 2: 100%|██████████| 47/47 [00:01<00:00, 34.13it/s]\n"
     ]
    },
    {
     "name": "stdout",
     "output_type": "stream",
     "text": [
      "\n",
      "Fold 2 - Balanced Accuracy: 0.4999, AUROC: 0.6518\n"
     ]
    },
    {
     "name": "stderr",
     "output_type": "stream",
     "text": [
      "Inference Fold 3: 100%|██████████| 47/47 [00:01<00:00, 33.81it/s]\n"
     ]
    },
    {
     "name": "stdout",
     "output_type": "stream",
     "text": [
      "\n",
      "Fold 3 - Balanced Accuracy: 0.7665, AUROC: 0.8757\n"
     ]
    },
    {
     "name": "stderr",
     "output_type": "stream",
     "text": [
      "Inference Fold 4: 100%|██████████| 47/47 [00:01<00:00, 33.91it/s]\n"
     ]
    },
    {
     "name": "stdout",
     "output_type": "stream",
     "text": [
      "\n",
      "Fold 4 - Balanced Accuracy: 0.7904, AUROC: 0.8640\n"
     ]
    },
    {
     "name": "stderr",
     "output_type": "stream",
     "text": [
      "Inference Fold 5: 100%|██████████| 47/47 [00:01<00:00, 34.09it/s]"
     ]
    },
    {
     "name": "stdout",
     "output_type": "stream",
     "text": [
      "\n",
      "Fold 5 - Balanced Accuracy: 0.7933, AUROC: 0.8790\n",
      "\n",
      "--- Per-Fold Evaluation Summary (Swin Transformer) ---\n",
      "Balanced Accuracy: 0.7213 ± 0.1116\n",
      "AUROC: 0.8272 ± 0.0879\n",
      "\n",
      "Saved fold predictions and labels to: swin_atnorm-br_predictions.pkl\n"
     ]
    },
    {
     "name": "stderr",
     "output_type": "stream",
     "text": [
      "\n"
     ]
    }
   ],
   "source": [
    "import os\n",
    "import torch\n",
    "import torch.nn as nn\n",
    "from torch.utils.data import Dataset, DataLoader\n",
    "from torchvision import transforms\n",
    "from PIL import Image\n",
    "from tqdm import tqdm\n",
    "import numpy as np\n",
    "import pandas as pd\n",
    "from sklearn.metrics import balanced_accuracy_score, roc_auc_score\n",
    "import timm\n",
    "import pickle\n",
    "\n",
    "# Device setup\n",
    "device = torch.device(\"cuda\" if torch.cuda.is_available() else \"cpu\")\n",
    "\n",
    "# Define transforms (matching validation transform from training)\n",
    "val_transform = transforms.Compose([\n",
    "    transforms.Resize((224, 224)),\n",
    "    transforms.ToTensor(),\n",
    "    transforms.Normalize([0.485, 0.456, 0.406], [0.229, 0.224, 0.225])\n",
    "])\n",
    "\n",
    "# Dataset class\n",
    "class InferenceDataset(Dataset):\n",
    "    def __init__(self, image_paths, labels, transform=None):\n",
    "        self.image_paths = image_paths\n",
    "        self.labels = labels\n",
    "        self.transform = transform\n",
    "\n",
    "    def __len__(self):\n",
    "        return len(self.image_paths)\n",
    "\n",
    "    def __getitem__(self, idx):\n",
    "        image = Image.open(self.image_paths[idx]).convert(\"RGB\")\n",
    "        if self.transform:\n",
    "            image = self.transform(image)\n",
    "        label = self.labels[idx]\n",
    "        return image, label\n",
    "\n",
    "# Swin Transformer model\n",
    "class BinarySwin(nn.Module):\n",
    "    def __init__(self):\n",
    "        super(BinarySwin, self).__init__()\n",
    "        self.model = timm.create_model('swin_base_patch4_window7_224', pretrained=False, num_classes=0)\n",
    "        self.pool = nn.AdaptiveAvgPool1d(1)\n",
    "        self.classifier = nn.Sequential(\n",
    "            nn.Flatten(),\n",
    "            nn.Linear(self.model.num_features, 1)\n",
    "        )\n",
    "\n",
    "    def forward(self, x):\n",
    "        x = self.model(x)\n",
    "        if x.ndim == 3:\n",
    "            x = self.pool(x)\n",
    "        return self.classifier(x)\n",
    "\n",
    "# Load test dataset\n",
    "test_root = \"/data/MELBA-AmiBr/Datasets_Stratified/AtNorM-Br\"\n",
    "class_map = {\"Atypical\": 0, \"Normal\": 1}\n",
    "image_paths, labels = [], []\n",
    "\n",
    "for class_name, label_val in class_map.items():\n",
    "    class_folder = os.path.join(test_root, class_name)\n",
    "    for fname in os.listdir(class_folder):\n",
    "        if fname.lower().endswith(('.jpg', '.jpeg', '.png', '.tif')):\n",
    "            image_paths.append(os.path.join(class_folder, fname))\n",
    "            labels.append(label_val)\n",
    "\n",
    "# Prepare dataset and loader\n",
    "test_dataset = InferenceDataset(image_paths, labels, transform=val_transform)\n",
    "test_loader = DataLoader(test_dataset, batch_size=16, shuffle=False, num_workers=8, pin_memory=True)\n",
    "\n",
    "# Load models\n",
    "num_folds = 5\n",
    "model_paths = [f\"amibr_swin_base_patch4_window7_224_fold_{i + 1}_best.pth\" for i in range(num_folds)]\n",
    "models = []\n",
    "\n",
    "for path in model_paths:\n",
    "    model = BinarySwin().to(device)\n",
    "    model.load_state_dict(torch.load(path, map_location=device))\n",
    "    model.eval()\n",
    "    models.append(model)\n",
    "\n",
    "# Inference\n",
    "true_labels = np.array(labels)\n",
    "fold_bal_accs, fold_aurocs = [], []\n",
    "fold_probs_dict = {}\n",
    "\n",
    "for i, model in enumerate(models):\n",
    "    fold_probs = []\n",
    "\n",
    "    with torch.no_grad():\n",
    "        for images, _ in tqdm(test_loader, desc=f\"Inference Fold {i + 1}\"):\n",
    "            images = images.to(device)\n",
    "            outputs = model(images)\n",
    "            probs = torch.sigmoid(outputs).squeeze(1).cpu().numpy()\n",
    "            fold_probs.extend(probs)\n",
    "\n",
    "    fold_probs = np.array(fold_probs)\n",
    "    fold_preds = (fold_probs > 0.5).astype(int)\n",
    "\n",
    "    bal_acc = balanced_accuracy_score(true_labels, fold_preds)\n",
    "    auroc = roc_auc_score(true_labels, fold_probs)\n",
    "\n",
    "    fold_bal_accs.append(bal_acc)\n",
    "    fold_aurocs.append(auroc)\n",
    "\n",
    "    print(f\"\\nFold {i + 1} - Balanced Accuracy: {bal_acc:.4f}, AUROC: {auroc:.4f}\")\n",
    "\n",
    "    fold_probs_dict[f\"fold_{i + 1}\"] = {\n",
    "        \"probs\": fold_probs,\n",
    "        \"preds\": fold_preds,\n",
    "        \"true_labels\": true_labels\n",
    "    }\n",
    "\n",
    "# Summary\n",
    "mean_bal_acc = np.mean(fold_bal_accs)\n",
    "std_bal_acc = np.std(fold_bal_accs)\n",
    "mean_auroc = np.mean(fold_aurocs)\n",
    "std_auroc = np.std(fold_aurocs)\n",
    "\n",
    "print(\"\\n--- Per-Fold Evaluation Summary (Swin Transformer) ---\")\n",
    "print(f\"Balanced Accuracy: {mean_bal_acc:.4f} ± {std_bal_acc:.4f}\")\n",
    "print(f\"AUROC: {mean_auroc:.4f} ± {std_auroc:.4f}\")\n",
    "\n",
    "# Save predictions\n",
    "output_path = \"swin_atnorm-br_predictions.pkl\"\n",
    "with open(output_path, \"wb\") as f:\n",
    "    pickle.dump(fold_probs_dict, f)\n",
    "\n",
    "print(f\"\\nSaved fold predictions and labels to: {output_path}\")\n"
   ]
  },
  {
   "cell_type": "markdown",
   "metadata": {},
   "source": [
    "## AtNorM-MD"
   ]
  },
  {
   "cell_type": "code",
   "execution_count": 3,
   "metadata": {},
   "outputs": [
    {
     "name": "stderr",
     "output_type": "stream",
     "text": [
      "/tmp/ipykernel_3588337/3151323966.py:81: FutureWarning: You are using `torch.load` with `weights_only=False` (the current default value), which uses the default pickle module implicitly. It is possible to construct malicious pickle data which will execute arbitrary code during unpickling (See https://github.com/pytorch/pytorch/blob/main/SECURITY.md#untrusted-models for more details). In a future release, the default value for `weights_only` will be flipped to `True`. This limits the functions that could be executed during unpickling. Arbitrary objects will no longer be allowed to be loaded via this mode unless they are explicitly allowlisted by the user via `torch.serialization.add_safe_globals`. We recommend you start setting `weights_only=True` for any use case where you don't have full control of the loaded file. Please open an issue on GitHub for any issues related to this experimental feature.\n",
      "  model.load_state_dict(torch.load(path, map_location=device))\n",
      "Inference Fold 1: 100%|██████████| 132/132 [00:03<00:00, 38.39it/s]\n"
     ]
    },
    {
     "name": "stdout",
     "output_type": "stream",
     "text": [
      "\n",
      "Fold 1 - Balanced Accuracy: 0.7918, AUROC: 0.8729\n"
     ]
    },
    {
     "name": "stderr",
     "output_type": "stream",
     "text": [
      "Inference Fold 2: 100%|██████████| 132/132 [00:03<00:00, 38.21it/s]\n"
     ]
    },
    {
     "name": "stdout",
     "output_type": "stream",
     "text": [
      "\n",
      "Fold 2 - Balanced Accuracy: 0.5143, AUROC: 0.5647\n"
     ]
    },
    {
     "name": "stderr",
     "output_type": "stream",
     "text": [
      "Inference Fold 3: 100%|██████████| 132/132 [00:03<00:00, 38.26it/s]\n"
     ]
    },
    {
     "name": "stdout",
     "output_type": "stream",
     "text": [
      "\n",
      "Fold 3 - Balanced Accuracy: 0.7606, AUROC: 0.8705\n"
     ]
    },
    {
     "name": "stderr",
     "output_type": "stream",
     "text": [
      "Inference Fold 4: 100%|██████████| 132/132 [00:03<00:00, 38.30it/s]\n"
     ]
    },
    {
     "name": "stdout",
     "output_type": "stream",
     "text": [
      "\n",
      "Fold 4 - Balanced Accuracy: 0.7638, AUROC: 0.8544\n"
     ]
    },
    {
     "name": "stderr",
     "output_type": "stream",
     "text": [
      "Inference Fold 5: 100%|██████████| 132/132 [00:03<00:00, 38.02it/s]"
     ]
    },
    {
     "name": "stdout",
     "output_type": "stream",
     "text": [
      "\n",
      "Fold 5 - Balanced Accuracy: 0.7822, AUROC: 0.8721\n",
      "\n",
      "--- Per-Fold Evaluation Summary (Swin Transformer) ---\n",
      "Balanced Accuracy: 0.7226 ± 0.1048\n",
      "AUROC: 0.8069 ± 0.1213\n",
      "\n",
      "Saved fold predictions and labels to: swin_atnorm-md_predictions.pkl\n"
     ]
    },
    {
     "name": "stderr",
     "output_type": "stream",
     "text": [
      "\n"
     ]
    }
   ],
   "source": [
    "import os\n",
    "import torch\n",
    "import torch.nn as nn\n",
    "from torch.utils.data import Dataset, DataLoader\n",
    "from torchvision import transforms\n",
    "from PIL import Image\n",
    "from tqdm import tqdm\n",
    "import numpy as np\n",
    "import pandas as pd\n",
    "from sklearn.metrics import balanced_accuracy_score, roc_auc_score\n",
    "import timm\n",
    "import pickle\n",
    "\n",
    "# Device setup\n",
    "device = torch.device(\"cuda\" if torch.cuda.is_available() else \"cpu\")\n",
    "\n",
    "# Define transforms (matching validation transform from training)\n",
    "val_transform = transforms.Compose([\n",
    "    transforms.Resize((224, 224)),\n",
    "    transforms.ToTensor(),\n",
    "    transforms.Normalize([0.485, 0.456, 0.406], [0.229, 0.224, 0.225])\n",
    "])\n",
    "\n",
    "# Dataset class\n",
    "class InferenceDataset(Dataset):\n",
    "    def __init__(self, image_paths, labels, transform=None):\n",
    "        self.image_paths = image_paths\n",
    "        self.labels = labels\n",
    "        self.transform = transform\n",
    "\n",
    "    def __len__(self):\n",
    "        return len(self.image_paths)\n",
    "\n",
    "    def __getitem__(self, idx):\n",
    "        image = Image.open(self.image_paths[idx]).convert(\"RGB\")\n",
    "        if self.transform:\n",
    "            image = self.transform(image)\n",
    "        label = self.labels[idx]\n",
    "        return image, label\n",
    "\n",
    "# Swin Transformer model\n",
    "class BinarySwin(nn.Module):\n",
    "    def __init__(self):\n",
    "        super(BinarySwin, self).__init__()\n",
    "        self.model = timm.create_model('swin_base_patch4_window7_224', pretrained=False, num_classes=0)\n",
    "        self.pool = nn.AdaptiveAvgPool1d(1)\n",
    "        self.classifier = nn.Sequential(\n",
    "            nn.Flatten(),\n",
    "            nn.Linear(self.model.num_features, 1)\n",
    "        )\n",
    "\n",
    "    def forward(self, x):\n",
    "        x = self.model(x)\n",
    "        if x.ndim == 3:\n",
    "            x = self.pool(x)\n",
    "        return self.classifier(x)\n",
    "\n",
    "# Load test dataset\n",
    "test_root = \"/data/MELBA-AmiBr/Datasets_Stratified/AtNorM-MD\"\n",
    "class_map = {\"Atypical\": 0, \"Normal\": 1}\n",
    "image_paths, labels = [], []\n",
    "\n",
    "for class_name, label_val in class_map.items():\n",
    "    class_folder = os.path.join(test_root, class_name)\n",
    "    for fname in os.listdir(class_folder):\n",
    "        if fname.lower().endswith(('.jpg', '.jpeg', '.png', '.tif')):\n",
    "            image_paths.append(os.path.join(class_folder, fname))\n",
    "            labels.append(label_val)\n",
    "\n",
    "# Prepare dataset and loader\n",
    "test_dataset = InferenceDataset(image_paths, labels, transform=val_transform)\n",
    "test_loader = DataLoader(test_dataset, batch_size=16, shuffle=False, num_workers=8, pin_memory=True)\n",
    "\n",
    "# Load models\n",
    "num_folds = 5\n",
    "model_paths = [f\"amibr_swin_base_patch4_window7_224_fold_{i + 1}_best.pth\" for i in range(num_folds)]\n",
    "models = []\n",
    "\n",
    "for path in model_paths:\n",
    "    model = BinarySwin().to(device)\n",
    "    model.load_state_dict(torch.load(path, map_location=device))\n",
    "    model.eval()\n",
    "    models.append(model)\n",
    "\n",
    "# Inference\n",
    "true_labels = np.array(labels)\n",
    "fold_bal_accs, fold_aurocs = [], []\n",
    "fold_probs_dict = {}\n",
    "\n",
    "for i, model in enumerate(models):\n",
    "    fold_probs = []\n",
    "\n",
    "    with torch.no_grad():\n",
    "        for images, _ in tqdm(test_loader, desc=f\"Inference Fold {i + 1}\"):\n",
    "            images = images.to(device)\n",
    "            outputs = model(images)\n",
    "            probs = torch.sigmoid(outputs).squeeze(1).cpu().numpy()\n",
    "            fold_probs.extend(probs)\n",
    "\n",
    "    fold_probs = np.array(fold_probs)\n",
    "    fold_preds = (fold_probs > 0.5).astype(int)\n",
    "\n",
    "    bal_acc = balanced_accuracy_score(true_labels, fold_preds)\n",
    "    auroc = roc_auc_score(true_labels, fold_probs)\n",
    "\n",
    "    fold_bal_accs.append(bal_acc)\n",
    "    fold_aurocs.append(auroc)\n",
    "\n",
    "    print(f\"\\nFold {i + 1} - Balanced Accuracy: {bal_acc:.4f}, AUROC: {auroc:.4f}\")\n",
    "\n",
    "    fold_probs_dict[f\"fold_{i + 1}\"] = {\n",
    "        \"probs\": fold_probs,\n",
    "        \"preds\": fold_preds,\n",
    "        \"true_labels\": true_labels\n",
    "    }\n",
    "\n",
    "# Summary\n",
    "mean_bal_acc = np.mean(fold_bal_accs)\n",
    "std_bal_acc = np.std(fold_bal_accs)\n",
    "mean_auroc = np.mean(fold_aurocs)\n",
    "std_auroc = np.std(fold_aurocs)\n",
    "\n",
    "print(\"\\n--- Per-Fold Evaluation Summary (Swin Transformer) ---\")\n",
    "print(f\"Balanced Accuracy: {mean_bal_acc:.4f} ± {std_bal_acc:.4f}\")\n",
    "print(f\"AUROC: {mean_auroc:.4f} ± {std_auroc:.4f}\")\n",
    "\n",
    "# Save predictions\n",
    "output_path = \"swin_atnorm-md_predictions.pkl\"\n",
    "with open(output_path, \"wb\") as f:\n",
    "    pickle.dump(fold_probs_dict, f)\n",
    "\n",
    "print(f\"\\nSaved fold predictions and labels to: {output_path}\")\n"
   ]
  },
  {
   "cell_type": "code",
   "execution_count": null,
   "metadata": {},
   "outputs": [],
   "source": []
  }
 ],
 "metadata": {
  "kernelspec": {
   "display_name": "melbaAmiBr",
   "language": "python",
   "name": "python3"
  },
  "language_info": {
   "codemirror_mode": {
    "name": "ipython",
    "version": 3
   },
   "file_extension": ".py",
   "mimetype": "text/x-python",
   "name": "python",
   "nbconvert_exporter": "python",
   "pygments_lexer": "ipython3",
   "version": "3.10.17"
  }
 },
 "nbformat": 4,
 "nbformat_minor": 2
}
