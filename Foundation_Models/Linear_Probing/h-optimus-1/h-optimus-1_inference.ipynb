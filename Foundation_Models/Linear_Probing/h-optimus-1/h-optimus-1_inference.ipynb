{
 "cells": [
  {
   "cell_type": "markdown",
   "metadata": {},
   "source": [
    "## AMi-Br Test Set"
   ]
  },
  {
   "cell_type": "code",
   "execution_count": null,
   "metadata": {},
   "outputs": [
    {
     "name": "stderr",
     "output_type": "stream",
     "text": [
      "Extracting embeddings: 100%|██████████| 826/826 [00:14<00:00, 55.63it/s]\n",
      "/tmp/ipykernel_4049573/949290767.py:90: FutureWarning: You are using `torch.load` with `weights_only=False` (the current default value), which uses the default pickle module implicitly. It is possible to construct malicious pickle data which will execute arbitrary code during unpickling (See https://github.com/pytorch/pytorch/blob/main/SECURITY.md#untrusted-models for more details). In a future release, the default value for `weights_only` will be flipped to `True`. This limits the functions that could be executed during unpickling. Arbitrary objects will no longer be allowed to be loaded via this mode unless they are explicitly allowlisted by the user via `torch.serialization.add_safe_globals`. We recommend you start setting `weights_only=True` for any use case where you don't have full control of the loaded file. Please open an issue on GitHub for any issues related to this experimental feature.\n",
      "  model.load_state_dict(torch.load(path, map_location=device))\n",
      "Inference Fold 1: 100%|██████████| 52/52 [00:00<00:00, 163.30it/s]\n"
     ]
    },
    {
     "name": "stdout",
     "output_type": "stream",
     "text": [
      "\n",
      "Fold 1 - Balanced Accuracy: 0.5685, AUROC: 0.6408\n"
     ]
    },
    {
     "name": "stderr",
     "output_type": "stream",
     "text": [
      "Inference Fold 2: 100%|██████████| 52/52 [00:00<00:00, 189.40it/s]\n"
     ]
    },
    {
     "name": "stdout",
     "output_type": "stream",
     "text": [
      "\n",
      "Fold 2 - Balanced Accuracy: 0.6195, AUROC: 0.6555\n"
     ]
    },
    {
     "name": "stderr",
     "output_type": "stream",
     "text": [
      "Inference Fold 3: 100%|██████████| 52/52 [00:00<00:00, 190.39it/s]\n"
     ]
    },
    {
     "name": "stdout",
     "output_type": "stream",
     "text": [
      "\n",
      "Fold 3 - Balanced Accuracy: 0.5928, AUROC: 0.6633\n"
     ]
    },
    {
     "name": "stderr",
     "output_type": "stream",
     "text": [
      "Inference Fold 4: 100%|██████████| 52/52 [00:00<00:00, 193.20it/s]\n"
     ]
    },
    {
     "name": "stdout",
     "output_type": "stream",
     "text": [
      "\n",
      "Fold 4 - Balanced Accuracy: 0.5844, AUROC: 0.6333\n"
     ]
    },
    {
     "name": "stderr",
     "output_type": "stream",
     "text": [
      "Inference Fold 5: 100%|██████████| 52/52 [00:00<00:00, 194.34it/s]"
     ]
    },
    {
     "name": "stdout",
     "output_type": "stream",
     "text": [
      "\n",
      "Fold 5 - Balanced Accuracy: 0.5938, AUROC: 0.6540\n",
      "\n",
      "--- Per-Fold Evaluation Summary (Hoptimus-1) ---\n",
      "Balanced Accuracy: 0.5918 ± 0.0165\n",
      "AUROC: 0.6494 ± 0.0108\n",
      "\n",
      "Saved fold predictions and labels to: hoptimus1_amibr_test_predictions.pkl\n"
     ]
    },
    {
     "name": "stderr",
     "output_type": "stream",
     "text": [
      "\n"
     ]
    }
   ],
   "source": [
    "import os\n",
    "import torch\n",
    "import torch.nn as nn\n",
    "from torch.utils.data import Dataset, DataLoader\n",
    "from torchvision import transforms\n",
    "from PIL import Image\n",
    "from tqdm import tqdm\n",
    "import numpy as np\n",
    "import pandas as pd\n",
    "from sklearn.metrics import (\n",
    "    balanced_accuracy_score, roc_auc_score\n",
    ")\n",
    "from huggingface_hub import login\n",
    "import timm\n",
    "import pickle\n",
    "\n",
    "# Device setup\n",
    "device = torch.device(\"cuda\" if torch.cuda.is_available() else \"cpu\")\n",
    "\n",
    "# Hugging Face login\n",
    "login(token=\"your_huggingface_token_here\")  # Replace with your Hugging Face token\n",
    "# Load pretrained Hoptimus-0 model\n",
    "hoptimus_model = timm.create_model(\"hf-hub:bioptimus/H-optimus-1\", pretrained=True, init_values=1e-5, dynamic_img_size=False)\n",
    "hoptimus_model.eval().to(device)\n",
    "\n",
    "# Hoptimus-0 transform\n",
    "hoptimus_transform = transforms.Compose([\n",
    "    transforms.ToTensor(),\n",
    "    transforms.Normalize(mean=(0.707223, 0.578729, 0.703617), std=(0.211883, 0.230117, 0.177517))\n",
    "])\n",
    "\n",
    "# Embedding extractor\n",
    "def extract_embedding(img_path):\n",
    "    image = Image.open(img_path).convert(\"RGB\").resize((224, 224))\n",
    "    tensor = hoptimus_transform(image).unsqueeze(0).to(device)\n",
    "    with torch.inference_mode(), torch.autocast(device_type=\"cuda\", dtype=torch.float16):\n",
    "        features = hoptimus_model(tensor)\n",
    "    return features.squeeze(0).cpu()\n",
    "\n",
    "# Dataset class\n",
    "class InferenceDataset(Dataset):\n",
    "    def __init__(self, image_paths, labels):\n",
    "        self.embeddings = [extract_embedding(p) for p in tqdm(image_paths, desc=\"Extracting embeddings\")]\n",
    "        self.labels = labels\n",
    "\n",
    "    def __len__(self):\n",
    "        return len(self.embeddings)\n",
    "\n",
    "    def __getitem__(self, idx):\n",
    "        return self.embeddings[idx], self.labels[idx]\n",
    "\n",
    "# Classifier definition\n",
    "class HoptimusBinaryClassifier(nn.Module):\n",
    "    def __init__(self):\n",
    "        super().__init__()\n",
    "        self.classifier = nn.Sequential(\n",
    "            nn.Linear(1536, 512),\n",
    "            nn.ReLU(),\n",
    "            nn.Dropout(0.5),\n",
    "            nn.Linear(512, 1)\n",
    "        )\n",
    "\n",
    "    def forward(self, x):\n",
    "        return self.classifier(x)\n",
    "\n",
    "# Load test dataset\n",
    "test_root = \"/data/MELBA-AmiBr/Datasets_Stratified/AMi-Br/Test\"\n",
    "class_map = {\"Atypical\": 0, \"Normal\": 1}\n",
    "image_paths, labels = [], []\n",
    "\n",
    "for class_name, label_val in class_map.items():\n",
    "    class_folder = os.path.join(test_root, class_name)\n",
    "    for fname in os.listdir(class_folder):\n",
    "        if fname.lower().endswith(('.jpg', '.jpeg', '.png', '.tif')):\n",
    "            image_paths.append(os.path.join(class_folder, fname))\n",
    "            labels.append(label_val)\n",
    "\n",
    "# Prepare dataset and loader\n",
    "test_dataset = InferenceDataset(image_paths, labels)\n",
    "test_loader = DataLoader(test_dataset, batch_size=16, shuffle=False, num_workers=8, pin_memory=True)\n",
    "\n",
    "# Load models\n",
    "num_folds = 5\n",
    "model_paths = [f\"hoptimus1_linear_probe_fold_{i + 1}_best.pth\" for i in range(num_folds)]\n",
    "models = []\n",
    "\n",
    "for path in model_paths:\n",
    "    model = HoptimusBinaryClassifier().to(device)\n",
    "    model.load_state_dict(torch.load(path, map_location=device))\n",
    "    model.eval()\n",
    "    models.append(model)\n",
    "\n",
    "# Inference\n",
    "true_labels = np.array(test_dataset.labels)\n",
    "fold_bal_accs, fold_aurocs = [], []\n",
    "fold_probs_dict = {}\n",
    "\n",
    "for i, model in enumerate(models):\n",
    "    fold_probs = []\n",
    "\n",
    "    with torch.no_grad():\n",
    "        for embeddings, _ in tqdm(test_loader, desc=f\"Inference Fold {i + 1}\"):\n",
    "            embeddings = embeddings.to(device)\n",
    "            logits = model(embeddings)\n",
    "            probs = torch.sigmoid(logits).squeeze(1).cpu().numpy()\n",
    "            fold_probs.extend(probs)\n",
    "\n",
    "    fold_probs = np.array(fold_probs)\n",
    "    fold_preds = (fold_probs > 0.5).astype(int)\n",
    "\n",
    "    bal_acc = balanced_accuracy_score(true_labels, fold_preds)\n",
    "    auroc = roc_auc_score(true_labels, fold_probs)\n",
    "\n",
    "    fold_bal_accs.append(bal_acc)\n",
    "    fold_aurocs.append(auroc)\n",
    "\n",
    "    print(f\"\\nFold {i + 1} - Balanced Accuracy: {bal_acc:.4f}, AUROC: {auroc:.4f}\")\n",
    "\n",
    "    fold_probs_dict[f\"fold_{i + 1}\"] = {\n",
    "        \"probs\": fold_probs,\n",
    "        \"preds\": fold_preds,\n",
    "        \"true_labels\": true_labels\n",
    "    }\n",
    "\n",
    "# Summary\n",
    "mean_bal_acc = np.mean(fold_bal_accs)\n",
    "std_bal_acc = np.std(fold_bal_accs)\n",
    "mean_auroc = np.mean(fold_aurocs)\n",
    "std_auroc = np.std(fold_aurocs)\n",
    "\n",
    "print(\"\\n--- Per-Fold Evaluation Summary (Hoptimus-1) ---\")\n",
    "print(f\"Balanced Accuracy: {mean_bal_acc:.4f} ± {std_bal_acc:.4f}\")\n",
    "print(f\"AUROC: {mean_auroc:.4f} ± {std_auroc:.4f}\")\n",
    "\n",
    "# Save predictions\n",
    "output_path = \"hoptimus1_amibr_test_predictions.pkl\"\n",
    "with open(output_path, \"wb\") as f:\n",
    "    pickle.dump(fold_probs_dict, f)\n",
    "\n",
    "print(f\"\\nSaved fold predictions and labels to: {output_path}\")\n"
   ]
  },
  {
   "cell_type": "markdown",
   "metadata": {},
   "source": [
    "## AtNorM-Br"
   ]
  },
  {
   "cell_type": "code",
   "execution_count": null,
   "metadata": {},
   "outputs": [
    {
     "name": "stderr",
     "output_type": "stream",
     "text": [
      "Extracting embeddings: 100%|██████████| 746/746 [00:13<00:00, 56.51it/s]\n",
      "/tmp/ipykernel_4049573/12119128.py:90: FutureWarning: You are using `torch.load` with `weights_only=False` (the current default value), which uses the default pickle module implicitly. It is possible to construct malicious pickle data which will execute arbitrary code during unpickling (See https://github.com/pytorch/pytorch/blob/main/SECURITY.md#untrusted-models for more details). In a future release, the default value for `weights_only` will be flipped to `True`. This limits the functions that could be executed during unpickling. Arbitrary objects will no longer be allowed to be loaded via this mode unless they are explicitly allowlisted by the user via `torch.serialization.add_safe_globals`. We recommend you start setting `weights_only=True` for any use case where you don't have full control of the loaded file. Please open an issue on GitHub for any issues related to this experimental feature.\n",
      "  model.load_state_dict(torch.load(path, map_location=device))\n",
      "Inference Fold 1: 100%|██████████| 47/47 [00:00<00:00, 81.62it/s]\n"
     ]
    },
    {
     "name": "stdout",
     "output_type": "stream",
     "text": [
      "\n",
      "Fold 1 - Balanced Accuracy: 0.5781, AUROC: 0.6442\n"
     ]
    },
    {
     "name": "stderr",
     "output_type": "stream",
     "text": [
      "Inference Fold 2: 100%|██████████| 47/47 [00:00<00:00, 80.84it/s]\n"
     ]
    },
    {
     "name": "stdout",
     "output_type": "stream",
     "text": [
      "\n",
      "Fold 2 - Balanced Accuracy: 0.6372, AUROC: 0.6895\n"
     ]
    },
    {
     "name": "stderr",
     "output_type": "stream",
     "text": [
      "Inference Fold 3: 100%|██████████| 47/47 [00:00<00:00, 82.14it/s]\n"
     ]
    },
    {
     "name": "stdout",
     "output_type": "stream",
     "text": [
      "\n",
      "Fold 3 - Balanced Accuracy: 0.6153, AUROC: 0.6729\n"
     ]
    },
    {
     "name": "stderr",
     "output_type": "stream",
     "text": [
      "Inference Fold 4: 100%|██████████| 47/47 [00:00<00:00, 82.11it/s]\n"
     ]
    },
    {
     "name": "stdout",
     "output_type": "stream",
     "text": [
      "\n",
      "Fold 4 - Balanced Accuracy: 0.6209, AUROC: 0.6506\n"
     ]
    },
    {
     "name": "stderr",
     "output_type": "stream",
     "text": [
      "Inference Fold 5: 100%|██████████| 47/47 [00:00<00:00, 80.78it/s]"
     ]
    },
    {
     "name": "stdout",
     "output_type": "stream",
     "text": [
      "\n",
      "Fold 5 - Balanced Accuracy: 0.6179, AUROC: 0.6908\n",
      "\n",
      "--- Per-Fold Evaluation Summary (Hoptimus-1) ---\n",
      "Balanced Accuracy: 0.6139 ± 0.0195\n",
      "AUROC: 0.6696 ± 0.0193\n",
      "\n",
      "Saved fold predictions and labels to: hoptimus1_atnorm-br_test_predictions.pkl\n"
     ]
    },
    {
     "name": "stderr",
     "output_type": "stream",
     "text": [
      "\n"
     ]
    }
   ],
   "source": [
    "import os\n",
    "import torch\n",
    "import torch.nn as nn\n",
    "from torch.utils.data import Dataset, DataLoader\n",
    "from torchvision import transforms\n",
    "from PIL import Image\n",
    "from tqdm import tqdm\n",
    "import numpy as np\n",
    "import pandas as pd\n",
    "from sklearn.metrics import (\n",
    "    balanced_accuracy_score, roc_auc_score\n",
    ")\n",
    "from huggingface_hub import login\n",
    "import timm\n",
    "import pickle\n",
    "\n",
    "# Device setup\n",
    "device = torch.device(\"cuda\" if torch.cuda.is_available() else \"cpu\")\n",
    "\n",
    "# Hugging Face login\n",
    "login(token=\"your_huggingface_token_here\")  # Replace with your Hugging Face token\n",
    "\n",
    "# Load pretrained Hoptimus-0 model\n",
    "hoptimus_model = timm.create_model(\"hf-hub:bioptimus/H-optimus-1\", pretrained=True, init_values=1e-5, dynamic_img_size=False)\n",
    "hoptimus_model.eval().to(device)\n",
    "\n",
    "# Hoptimus-0 transform\n",
    "hoptimus_transform = transforms.Compose([\n",
    "    transforms.ToTensor(),\n",
    "    transforms.Normalize(mean=(0.707223, 0.578729, 0.703617), std=(0.211883, 0.230117, 0.177517))\n",
    "])\n",
    "\n",
    "# Embedding extractor\n",
    "def extract_embedding(img_path):\n",
    "    image = Image.open(img_path).convert(\"RGB\").resize((224, 224))\n",
    "    tensor = hoptimus_transform(image).unsqueeze(0).to(device)\n",
    "    with torch.inference_mode(), torch.autocast(device_type=\"cuda\", dtype=torch.float16):\n",
    "        features = hoptimus_model(tensor)\n",
    "    return features.squeeze(0).cpu()\n",
    "\n",
    "# Dataset class\n",
    "class InferenceDataset(Dataset):\n",
    "    def __init__(self, image_paths, labels):\n",
    "        self.embeddings = [extract_embedding(p) for p in tqdm(image_paths, desc=\"Extracting embeddings\")]\n",
    "        self.labels = labels\n",
    "\n",
    "    def __len__(self):\n",
    "        return len(self.embeddings)\n",
    "\n",
    "    def __getitem__(self, idx):\n",
    "        return self.embeddings[idx], self.labels[idx]\n",
    "\n",
    "# Classifier definition\n",
    "class HoptimusBinaryClassifier(nn.Module):\n",
    "    def __init__(self):\n",
    "        super().__init__()\n",
    "        self.classifier = nn.Sequential(\n",
    "            nn.Linear(1536, 512),\n",
    "            nn.ReLU(),\n",
    "            nn.Dropout(0.5),\n",
    "            nn.Linear(512, 1)\n",
    "        )\n",
    "\n",
    "    def forward(self, x):\n",
    "        return self.classifier(x)\n",
    "\n",
    "# Load test dataset\n",
    "test_root = \"/data/MELBA-AmiBr/Datasets_Stratified/AtNorM-Br\"\n",
    "class_map = {\"Atypical\": 0, \"Normal\": 1}\n",
    "image_paths, labels = [], []\n",
    "\n",
    "for class_name, label_val in class_map.items():\n",
    "    class_folder = os.path.join(test_root, class_name)\n",
    "    for fname in os.listdir(class_folder):\n",
    "        if fname.lower().endswith(('.jpg', '.jpeg', '.png', '.tif')):\n",
    "            image_paths.append(os.path.join(class_folder, fname))\n",
    "            labels.append(label_val)\n",
    "\n",
    "# Prepare dataset and loader\n",
    "test_dataset = InferenceDataset(image_paths, labels)\n",
    "test_loader = DataLoader(test_dataset, batch_size=16, shuffle=False, num_workers=8, pin_memory=True)\n",
    "\n",
    "# Load models\n",
    "num_folds = 5\n",
    "model_paths = [f\"hoptimus1_linear_probe_fold_{i + 1}_best.pth\" for i in range(num_folds)]\n",
    "models = []\n",
    "\n",
    "for path in model_paths:\n",
    "    model = HoptimusBinaryClassifier().to(device)\n",
    "    model.load_state_dict(torch.load(path, map_location=device))\n",
    "    model.eval()\n",
    "    models.append(model)\n",
    "\n",
    "# Inference\n",
    "true_labels = np.array(test_dataset.labels)\n",
    "fold_bal_accs, fold_aurocs = [], []\n",
    "fold_probs_dict = {}\n",
    "\n",
    "for i, model in enumerate(models):\n",
    "    fold_probs = []\n",
    "\n",
    "    with torch.no_grad():\n",
    "        for embeddings, _ in tqdm(test_loader, desc=f\"Inference Fold {i + 1}\"):\n",
    "            embeddings = embeddings.to(device)\n",
    "            logits = model(embeddings)\n",
    "            probs = torch.sigmoid(logits).squeeze(1).cpu().numpy()\n",
    "            fold_probs.extend(probs)\n",
    "\n",
    "    fold_probs = np.array(fold_probs)\n",
    "    fold_preds = (fold_probs > 0.5).astype(int)\n",
    "\n",
    "    bal_acc = balanced_accuracy_score(true_labels, fold_preds)\n",
    "    auroc = roc_auc_score(true_labels, fold_probs)\n",
    "\n",
    "    fold_bal_accs.append(bal_acc)\n",
    "    fold_aurocs.append(auroc)\n",
    "\n",
    "    print(f\"\\nFold {i + 1} - Balanced Accuracy: {bal_acc:.4f}, AUROC: {auroc:.4f}\")\n",
    "\n",
    "    fold_probs_dict[f\"fold_{i + 1}\"] = {\n",
    "        \"probs\": fold_probs,\n",
    "        \"preds\": fold_preds,\n",
    "        \"true_labels\": true_labels\n",
    "    }\n",
    "\n",
    "# Summary\n",
    "mean_bal_acc = np.mean(fold_bal_accs)\n",
    "std_bal_acc = np.std(fold_bal_accs)\n",
    "mean_auroc = np.mean(fold_aurocs)\n",
    "std_auroc = np.std(fold_aurocs)\n",
    "\n",
    "print(\"\\n--- Per-Fold Evaluation Summary (Hoptimus-1) ---\")\n",
    "print(f\"Balanced Accuracy: {mean_bal_acc:.4f} ± {std_bal_acc:.4f}\")\n",
    "print(f\"AUROC: {mean_auroc:.4f} ± {std_auroc:.4f}\")\n",
    "\n",
    "# Save predictions\n",
    "output_path = \"hoptimus1_atnorm-br_test_predictions.pkl\"\n",
    "with open(output_path, \"wb\") as f:\n",
    "    pickle.dump(fold_probs_dict, f)\n",
    "\n",
    "print(f\"\\nSaved fold predictions and labels to: {output_path}\")\n"
   ]
  },
  {
   "cell_type": "markdown",
   "metadata": {},
   "source": [
    "## AtNorM-MD"
   ]
  },
  {
   "cell_type": "code",
   "execution_count": null,
   "metadata": {},
   "outputs": [
    {
     "name": "stderr",
     "output_type": "stream",
     "text": [
      "Extracting embeddings: 100%|██████████| 2107/2107 [00:37<00:00, 56.63it/s]\n",
      "/tmp/ipykernel_4049573/356442352.py:90: FutureWarning: You are using `torch.load` with `weights_only=False` (the current default value), which uses the default pickle module implicitly. It is possible to construct malicious pickle data which will execute arbitrary code during unpickling (See https://github.com/pytorch/pytorch/blob/main/SECURITY.md#untrusted-models for more details). In a future release, the default value for `weights_only` will be flipped to `True`. This limits the functions that could be executed during unpickling. Arbitrary objects will no longer be allowed to be loaded via this mode unless they are explicitly allowlisted by the user via `torch.serialization.add_safe_globals`. We recommend you start setting `weights_only=True` for any use case where you don't have full control of the loaded file. Please open an issue on GitHub for any issues related to this experimental feature.\n",
      "  model.load_state_dict(torch.load(path, map_location=device))\n",
      "Inference Fold 1: 100%|██████████| 132/132 [00:00<00:00, 205.75it/s]\n"
     ]
    },
    {
     "name": "stdout",
     "output_type": "stream",
     "text": [
      "\n",
      "Fold 1 - Balanced Accuracy: 0.5710, AUROC: 0.5902\n"
     ]
    },
    {
     "name": "stderr",
     "output_type": "stream",
     "text": [
      "Inference Fold 2: 100%|██████████| 132/132 [00:00<00:00, 207.74it/s]\n"
     ]
    },
    {
     "name": "stdout",
     "output_type": "stream",
     "text": [
      "\n",
      "Fold 2 - Balanced Accuracy: 0.5987, AUROC: 0.6535\n"
     ]
    },
    {
     "name": "stderr",
     "output_type": "stream",
     "text": [
      "Inference Fold 3: 100%|██████████| 132/132 [00:00<00:00, 206.00it/s]\n"
     ]
    },
    {
     "name": "stdout",
     "output_type": "stream",
     "text": [
      "\n",
      "Fold 3 - Balanced Accuracy: 0.6229, AUROC: 0.7069\n"
     ]
    },
    {
     "name": "stderr",
     "output_type": "stream",
     "text": [
      "Inference Fold 4: 100%|██████████| 132/132 [00:00<00:00, 205.24it/s]\n"
     ]
    },
    {
     "name": "stdout",
     "output_type": "stream",
     "text": [
      "\n",
      "Fold 4 - Balanced Accuracy: 0.5429, AUROC: 0.5822\n"
     ]
    },
    {
     "name": "stderr",
     "output_type": "stream",
     "text": [
      "Inference Fold 5: 100%|██████████| 132/132 [00:00<00:00, 204.21it/s]"
     ]
    },
    {
     "name": "stdout",
     "output_type": "stream",
     "text": [
      "\n",
      "Fold 5 - Balanced Accuracy: 0.6220, AUROC: 0.6850\n",
      "\n",
      "--- Per-Fold Evaluation Summary (Hoptimus-1) ---\n",
      "Balanced Accuracy: 0.5915 ± 0.0308\n",
      "AUROC: 0.6436 ± 0.0499\n",
      "\n",
      "Saved fold predictions and labels to: hoptimus1_atnorm-md_test_predictions.pkl\n"
     ]
    },
    {
     "name": "stderr",
     "output_type": "stream",
     "text": [
      "\n"
     ]
    }
   ],
   "source": [
    "import os\n",
    "import torch\n",
    "import torch.nn as nn\n",
    "from torch.utils.data import Dataset, DataLoader\n",
    "from torchvision import transforms\n",
    "from PIL import Image\n",
    "from tqdm import tqdm\n",
    "import numpy as np\n",
    "import pandas as pd\n",
    "from sklearn.metrics import (\n",
    "    balanced_accuracy_score, roc_auc_score\n",
    ")\n",
    "from huggingface_hub import login\n",
    "import timm\n",
    "import pickle\n",
    "\n",
    "# Device setup\n",
    "device = torch.device(\"cuda\" if torch.cuda.is_available() else \"cpu\")\n",
    "\n",
    "# Hugging Face login\n",
    "login(token=\"your_huggingface_token_here\")  # Replace with your Hugging Face token\n",
    "\n",
    "# Load pretrained Hoptimus-0 model\n",
    "hoptimus_model = timm.create_model(\"hf-hub:bioptimus/H-optimus-1\", pretrained=True, init_values=1e-5, dynamic_img_size=False)\n",
    "hoptimus_model.eval().to(device)\n",
    "\n",
    "# Hoptimus-0 transform\n",
    "hoptimus_transform = transforms.Compose([\n",
    "    transforms.ToTensor(),\n",
    "    transforms.Normalize(mean=(0.707223, 0.578729, 0.703617), std=(0.211883, 0.230117, 0.177517))\n",
    "])\n",
    "\n",
    "# Embedding extractor\n",
    "def extract_embedding(img_path):\n",
    "    image = Image.open(img_path).convert(\"RGB\").resize((224, 224))\n",
    "    tensor = hoptimus_transform(image).unsqueeze(0).to(device)\n",
    "    with torch.inference_mode(), torch.autocast(device_type=\"cuda\", dtype=torch.float16):\n",
    "        features = hoptimus_model(tensor)\n",
    "    return features.squeeze(0).cpu()\n",
    "\n",
    "# Dataset class\n",
    "class InferenceDataset(Dataset):\n",
    "    def __init__(self, image_paths, labels):\n",
    "        self.embeddings = [extract_embedding(p) for p in tqdm(image_paths, desc=\"Extracting embeddings\")]\n",
    "        self.labels = labels\n",
    "\n",
    "    def __len__(self):\n",
    "        return len(self.embeddings)\n",
    "\n",
    "    def __getitem__(self, idx):\n",
    "        return self.embeddings[idx], self.labels[idx]\n",
    "\n",
    "# Classifier definition\n",
    "class HoptimusBinaryClassifier(nn.Module):\n",
    "    def __init__(self):\n",
    "        super().__init__()\n",
    "        self.classifier = nn.Sequential(\n",
    "            nn.Linear(1536, 512),\n",
    "            nn.ReLU(),\n",
    "            nn.Dropout(0.5),\n",
    "            nn.Linear(512, 1)\n",
    "        )\n",
    "\n",
    "    def forward(self, x):\n",
    "        return self.classifier(x)\n",
    "\n",
    "# Load test dataset\n",
    "test_root = \"/data/MELBA-AmiBr/Datasets_Stratified/AtNorM-MD\"\n",
    "class_map = {\"Atypical\": 0, \"Normal\": 1}\n",
    "image_paths, labels = [], []\n",
    "\n",
    "for class_name, label_val in class_map.items():\n",
    "    class_folder = os.path.join(test_root, class_name)\n",
    "    for fname in os.listdir(class_folder):\n",
    "        if fname.lower().endswith(('.jpg', '.jpeg', '.png', '.tif')):\n",
    "            image_paths.append(os.path.join(class_folder, fname))\n",
    "            labels.append(label_val)\n",
    "\n",
    "# Prepare dataset and loader\n",
    "test_dataset = InferenceDataset(image_paths, labels)\n",
    "test_loader = DataLoader(test_dataset, batch_size=16, shuffle=False, num_workers=8, pin_memory=True)\n",
    "\n",
    "# Load models\n",
    "num_folds = 5\n",
    "model_paths = [f\"hoptimus1_linear_probe_fold_{i + 1}_best.pth\" for i in range(num_folds)]\n",
    "models = []\n",
    "\n",
    "for path in model_paths:\n",
    "    model = HoptimusBinaryClassifier().to(device)\n",
    "    model.load_state_dict(torch.load(path, map_location=device))\n",
    "    model.eval()\n",
    "    models.append(model)\n",
    "\n",
    "# Inference\n",
    "true_labels = np.array(test_dataset.labels)\n",
    "fold_bal_accs, fold_aurocs = [], []\n",
    "fold_probs_dict = {}\n",
    "\n",
    "for i, model in enumerate(models):\n",
    "    fold_probs = []\n",
    "\n",
    "    with torch.no_grad():\n",
    "        for embeddings, _ in tqdm(test_loader, desc=f\"Inference Fold {i + 1}\"):\n",
    "            embeddings = embeddings.to(device)\n",
    "            logits = model(embeddings)\n",
    "            probs = torch.sigmoid(logits).squeeze(1).cpu().numpy()\n",
    "            fold_probs.extend(probs)\n",
    "\n",
    "    fold_probs = np.array(fold_probs)\n",
    "    fold_preds = (fold_probs > 0.5).astype(int)\n",
    "\n",
    "    bal_acc = balanced_accuracy_score(true_labels, fold_preds)\n",
    "    auroc = roc_auc_score(true_labels, fold_probs)\n",
    "\n",
    "    fold_bal_accs.append(bal_acc)\n",
    "    fold_aurocs.append(auroc)\n",
    "\n",
    "    print(f\"\\nFold {i + 1} - Balanced Accuracy: {bal_acc:.4f}, AUROC: {auroc:.4f}\")\n",
    "\n",
    "    fold_probs_dict[f\"fold_{i + 1}\"] = {\n",
    "        \"probs\": fold_probs,\n",
    "        \"preds\": fold_preds,\n",
    "        \"true_labels\": true_labels\n",
    "    }\n",
    "\n",
    "# Summary\n",
    "mean_bal_acc = np.mean(fold_bal_accs)\n",
    "std_bal_acc = np.std(fold_bal_accs)\n",
    "mean_auroc = np.mean(fold_aurocs)\n",
    "std_auroc = np.std(fold_aurocs)\n",
    "\n",
    "print(\"\\n--- Per-Fold Evaluation Summary (Hoptimus-1) ---\")\n",
    "print(f\"Balanced Accuracy: {mean_bal_acc:.4f} ± {std_bal_acc:.4f}\")\n",
    "print(f\"AUROC: {mean_auroc:.4f} ± {std_auroc:.4f}\")\n",
    "\n",
    "# Save predictions\n",
    "output_path = \"hoptimus1_atnorm-md_test_predictions.pkl\"\n",
    "with open(output_path, \"wb\") as f:\n",
    "    pickle.dump(fold_probs_dict, f)\n",
    "\n",
    "print(f\"\\nSaved fold predictions and labels to: {output_path}\")\n"
   ]
  },
  {
   "cell_type": "code",
   "execution_count": null,
   "metadata": {},
   "outputs": [],
   "source": []
  }
 ],
 "metadata": {
  "kernelspec": {
   "display_name": "melbaAmiBr",
   "language": "python",
   "name": "python3"
  },
  "language_info": {
   "codemirror_mode": {
    "name": "ipython",
    "version": 3
   },
   "file_extension": ".py",
   "mimetype": "text/x-python",
   "name": "python",
   "nbconvert_exporter": "python",
   "pygments_lexer": "ipython3",
   "version": "3.10.17"
  }
 },
 "nbformat": 4,
 "nbformat_minor": 2
}
