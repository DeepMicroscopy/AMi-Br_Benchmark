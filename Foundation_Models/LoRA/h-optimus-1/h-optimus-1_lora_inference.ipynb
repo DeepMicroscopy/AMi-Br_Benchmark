{
 "cells": [
  {
   "cell_type": "markdown",
   "id": "f2293337",
   "metadata": {},
   "source": [
    "## AMi-Br"
   ]
  },
  {
   "cell_type": "code",
   "execution_count": null,
   "id": "40989948",
   "metadata": {},
   "outputs": [
    {
     "name": "stdout",
     "output_type": "stream",
     "text": [
      "\n",
      "--- Inference: Fold 1 ---\n"
     ]
    },
    {
     "name": "stderr",
     "output_type": "stream",
     "text": [
      "/tmp/ipykernel_4004025/3803623156.py:94: FutureWarning: You are using `torch.load` with `weights_only=False` (the current default value), which uses the default pickle module implicitly. It is possible to construct malicious pickle data which will execute arbitrary code during unpickling (See https://github.com/pytorch/pytorch/blob/main/SECURITY.md#untrusted-models for more details). In a future release, the default value for `weights_only` will be flipped to `True`. This limits the functions that could be executed during unpickling. Arbitrary objects will no longer be allowed to be loaded via this mode unless they are explicitly allowlisted by the user via `torch.serialization.add_safe_globals`. We recommend you start setting `weights_only=True` for any use case where you don't have full control of the loaded file. Please open an issue on GitHub for any issues related to this experimental feature.\n",
      "  model.load_state_dict(torch.load(model_path, map_location=device))\n",
      "Evaluating Fold 1: 100%|██████████| 207/207 [00:11<00:00, 18.80it/s]\n"
     ]
    },
    {
     "name": "stdout",
     "output_type": "stream",
     "text": [
      "Fold 1 - Balanced Accuracy: 0.7875, AUROC: 0.8480\n",
      "\n",
      "--- Inference: Fold 2 ---\n"
     ]
    },
    {
     "name": "stderr",
     "output_type": "stream",
     "text": [
      "/tmp/ipykernel_4004025/3803623156.py:94: FutureWarning: You are using `torch.load` with `weights_only=False` (the current default value), which uses the default pickle module implicitly. It is possible to construct malicious pickle data which will execute arbitrary code during unpickling (See https://github.com/pytorch/pytorch/blob/main/SECURITY.md#untrusted-models for more details). In a future release, the default value for `weights_only` will be flipped to `True`. This limits the functions that could be executed during unpickling. Arbitrary objects will no longer be allowed to be loaded via this mode unless they are explicitly allowlisted by the user via `torch.serialization.add_safe_globals`. We recommend you start setting `weights_only=True` for any use case where you don't have full control of the loaded file. Please open an issue on GitHub for any issues related to this experimental feature.\n",
      "  model.load_state_dict(torch.load(model_path, map_location=device))\n",
      "Evaluating Fold 2: 100%|██████████| 207/207 [00:17<00:00, 11.98it/s]\n"
     ]
    },
    {
     "name": "stdout",
     "output_type": "stream",
     "text": [
      "Fold 2 - Balanced Accuracy: 0.7854, AUROC: 0.8609\n",
      "\n",
      "--- Inference: Fold 3 ---\n"
     ]
    },
    {
     "name": "stderr",
     "output_type": "stream",
     "text": [
      "/tmp/ipykernel_4004025/3803623156.py:94: FutureWarning: You are using `torch.load` with `weights_only=False` (the current default value), which uses the default pickle module implicitly. It is possible to construct malicious pickle data which will execute arbitrary code during unpickling (See https://github.com/pytorch/pytorch/blob/main/SECURITY.md#untrusted-models for more details). In a future release, the default value for `weights_only` will be flipped to `True`. This limits the functions that could be executed during unpickling. Arbitrary objects will no longer be allowed to be loaded via this mode unless they are explicitly allowlisted by the user via `torch.serialization.add_safe_globals`. We recommend you start setting `weights_only=True` for any use case where you don't have full control of the loaded file. Please open an issue on GitHub for any issues related to this experimental feature.\n",
      "  model.load_state_dict(torch.load(model_path, map_location=device))\n",
      "Evaluating Fold 3: 100%|██████████| 207/207 [00:10<00:00, 20.67it/s]\n"
     ]
    },
    {
     "name": "stdout",
     "output_type": "stream",
     "text": [
      "Fold 3 - Balanced Accuracy: 0.7622, AUROC: 0.8579\n",
      "\n",
      "--- Inference: Fold 4 ---\n"
     ]
    },
    {
     "name": "stderr",
     "output_type": "stream",
     "text": [
      "/tmp/ipykernel_4004025/3803623156.py:94: FutureWarning: You are using `torch.load` with `weights_only=False` (the current default value), which uses the default pickle module implicitly. It is possible to construct malicious pickle data which will execute arbitrary code during unpickling (See https://github.com/pytorch/pytorch/blob/main/SECURITY.md#untrusted-models for more details). In a future release, the default value for `weights_only` will be flipped to `True`. This limits the functions that could be executed during unpickling. Arbitrary objects will no longer be allowed to be loaded via this mode unless they are explicitly allowlisted by the user via `torch.serialization.add_safe_globals`. We recommend you start setting `weights_only=True` for any use case where you don't have full control of the loaded file. Please open an issue on GitHub for any issues related to this experimental feature.\n",
      "  model.load_state_dict(torch.load(model_path, map_location=device))\n",
      "Evaluating Fold 4: 100%|██████████| 207/207 [00:16<00:00, 12.54it/s]\n"
     ]
    },
    {
     "name": "stdout",
     "output_type": "stream",
     "text": [
      "Fold 4 - Balanced Accuracy: 0.7824, AUROC: 0.8657\n",
      "\n",
      "--- Inference: Fold 5 ---\n"
     ]
    },
    {
     "name": "stderr",
     "output_type": "stream",
     "text": [
      "/tmp/ipykernel_4004025/3803623156.py:94: FutureWarning: You are using `torch.load` with `weights_only=False` (the current default value), which uses the default pickle module implicitly. It is possible to construct malicious pickle data which will execute arbitrary code during unpickling (See https://github.com/pytorch/pytorch/blob/main/SECURITY.md#untrusted-models for more details). In a future release, the default value for `weights_only` will be flipped to `True`. This limits the functions that could be executed during unpickling. Arbitrary objects will no longer be allowed to be loaded via this mode unless they are explicitly allowlisted by the user via `torch.serialization.add_safe_globals`. We recommend you start setting `weights_only=True` for any use case where you don't have full control of the loaded file. Please open an issue on GitHub for any issues related to this experimental feature.\n",
      "  model.load_state_dict(torch.load(model_path, map_location=device))\n",
      "Evaluating Fold 5: 100%|██████████| 207/207 [00:17<00:00, 12.07it/s]\n"
     ]
    },
    {
     "name": "stdout",
     "output_type": "stream",
     "text": [
      "Fold 5 - Balanced Accuracy: 0.7638, AUROC: 0.8730\n",
      "\n",
      "--- Final Evaluation Summary (Hoptimus-1 LoRA) ---\n",
      "Balanced Accuracy: 0.7762 ± 0.0110\n",
      "AUROC: 0.8611 ± 0.0083\n",
      "Saved predictions to: hoptimus1_amibr_test_predictions.pkl\n"
     ]
    }
   ],
   "source": [
    "import os\n",
    "import torch\n",
    "import torch.nn as nn\n",
    "from torch.utils.data import Dataset, DataLoader\n",
    "from torchvision import transforms\n",
    "from PIL import Image\n",
    "from tqdm import tqdm\n",
    "import numpy as np\n",
    "import pandas as pd\n",
    "from sklearn.metrics import balanced_accuracy_score, roc_auc_score\n",
    "from huggingface_hub import login\n",
    "import timm\n",
    "from peft import get_peft_model, LoraConfig\n",
    "import pickle\n",
    "\n",
    "# Device setup\n",
    "device = torch.device(\"cuda\" if torch.cuda.is_available() else \"cpu\")\n",
    "\n",
    "# Hugging Face login\n",
    "login(token=\"Your HuggingFace Token Here\")\n",
    "\n",
    "# LoRA configuration\n",
    "lora_config = LoraConfig(\n",
    "    r=8,\n",
    "    lora_alpha=16,\n",
    "    target_modules=[\"qkv\", \"proj\", \"fc1\", \"fc2\"],\n",
    "    lora_dropout=0.3,\n",
    "    bias=\"none\",\n",
    "    modules_to_save=[\"head\"]\n",
    ")\n",
    "\n",
    "# Image transform for test set\n",
    "test_transform = transforms.Compose([\n",
    "    transforms.Resize(224),\n",
    "    transforms.ToTensor(),\n",
    "    transforms.Normalize(mean=(0.707223, 0.578729, 0.703617),\n",
    "                         std=(0.211883, 0.230117, 0.177517))\n",
    "])\n",
    "\n",
    "# Dataset for inference\n",
    "class TestImageDataset(Dataset):\n",
    "    def __init__(self, image_paths, labels, transform):\n",
    "        self.image_paths = image_paths\n",
    "        self.labels = labels\n",
    "        self.transform = transform\n",
    "\n",
    "    def __len__(self):\n",
    "        return len(self.image_paths)\n",
    "\n",
    "    def __getitem__(self, idx):\n",
    "        image = Image.open(self.image_paths[idx]).convert(\"RGB\")\n",
    "        image = self.transform(image)\n",
    "        label = torch.tensor(self.labels[idx], dtype=torch.float32).unsqueeze(0)\n",
    "        return image, label\n",
    "\n",
    "# Load test data\n",
    "test_root = \"/data/MELBA-AmiBr/Datasets_Stratified/AMi-Br/Test\"\n",
    "class_map = {\"Atypical\": 0, \"Normal\": 1}\n",
    "image_paths, labels = [], []\n",
    "\n",
    "for class_name, label in class_map.items():\n",
    "    class_dir = os.path.join(test_root, class_name)\n",
    "    for fname in os.listdir(class_dir):\n",
    "        if fname.lower().endswith((\".jpg\", \".jpeg\", \".png\", \".tif\")):\n",
    "            image_paths.append(os.path.join(class_dir, fname))\n",
    "            labels.append(label)\n",
    "\n",
    "# Create dataset and loader\n",
    "test_dataset = TestImageDataset(image_paths, labels, test_transform)\n",
    "test_loader = DataLoader(test_dataset, batch_size=4, shuffle=False, num_workers=2, pin_memory=True)\n",
    "\n",
    "# Inference loop per fold to avoid OOM\n",
    "true_labels = np.array(labels)\n",
    "fold_bal_accs, fold_aurocs = [], []\n",
    "fold_probs_dict = {}\n",
    "num_folds = 5\n",
    "\n",
    "for i in range(num_folds):\n",
    "    print(f\"\\n--- Inference: Fold {i + 1} ---\")\n",
    "\n",
    "    # Load and prepare model\n",
    "    model_path = f\"hoptimus1_lora_fold_{i + 1}_best.pth\"\n",
    "    base_model = timm.create_model(\n",
    "        \"hf-hub:bioptimus/H-optimus-1\",\n",
    "        pretrained=True,\n",
    "        num_classes=0,\n",
    "        init_values=1e-5,\n",
    "        dynamic_img_size=False\n",
    "    )\n",
    "    base_model.head = nn.Linear(base_model.num_features, 1)\n",
    "    base_model = base_model.to(device)\n",
    "\n",
    "    model = get_peft_model(base_model, lora_config)\n",
    "    model.load_state_dict(torch.load(model_path, map_location=device))\n",
    "    model.eval()\n",
    "\n",
    "    fold_probs = []\n",
    "\n",
    "    with torch.inference_mode(), torch.autocast(device_type=\"cuda\", dtype=torch.float16):\n",
    "        for images_batch, _ in tqdm(test_loader, desc=f\"Evaluating Fold {i + 1}\"):\n",
    "            images_batch = images_batch.to(device, non_blocking=True)\n",
    "            logits = model(images_batch)\n",
    "            probs = torch.sigmoid(logits).squeeze(1).cpu().numpy()\n",
    "            fold_probs.extend(probs)\n",
    "\n",
    "    fold_probs = np.array(fold_probs)\n",
    "    fold_preds = (fold_probs > 0.5).astype(int)\n",
    "\n",
    "    bal_acc = balanced_accuracy_score(true_labels, fold_preds)\n",
    "    auroc = roc_auc_score(true_labels, fold_probs)\n",
    "\n",
    "    fold_bal_accs.append(bal_acc)\n",
    "    fold_aurocs.append(auroc)\n",
    "\n",
    "    print(f\"Fold {i + 1} - Balanced Accuracy: {bal_acc:.4f}, AUROC: {auroc:.4f}\")\n",
    "\n",
    "    fold_probs_dict[f\"fold_{i + 1}\"] = {\n",
    "        \"probs\": fold_probs,\n",
    "        \"preds\": fold_preds,\n",
    "        \"true_labels\": true_labels\n",
    "    }\n",
    "\n",
    "    # Clean up GPU memory\n",
    "    del model\n",
    "    del base_model\n",
    "    torch.cuda.empty_cache()\n",
    "\n",
    "# Summary\n",
    "mean_bal_acc = np.mean(fold_bal_accs)\n",
    "std_bal_acc = np.std(fold_bal_accs)\n",
    "mean_auroc = np.mean(fold_aurocs)\n",
    "std_auroc = np.std(fold_aurocs)\n",
    "\n",
    "print(\"\\n--- Final Evaluation Summary (Hoptimus-1 LoRA) ---\")\n",
    "print(f\"Balanced Accuracy: {mean_bal_acc:.4f} ± {std_bal_acc:.4f}\")\n",
    "print(f\"AUROC: {mean_auroc:.4f} ± {std_auroc:.4f}\")\n",
    "\n",
    "# Save results\n",
    "output_path = \"hoptimus1_amibr_test_predictions.pkl\"\n",
    "with open(output_path, \"wb\") as f:\n",
    "    pickle.dump(fold_probs_dict, f)\n",
    "\n",
    "print(f\"Saved predictions to: {output_path}\")\n"
   ]
  },
  {
   "cell_type": "markdown",
   "id": "4682b777",
   "metadata": {},
   "source": [
    "## AtNorM-Br"
   ]
  },
  {
   "cell_type": "code",
   "execution_count": null,
   "id": "eda64ddc",
   "metadata": {},
   "outputs": [
    {
     "name": "stdout",
     "output_type": "stream",
     "text": [
      "\n",
      "--- Inference: Fold 1 ---\n"
     ]
    },
    {
     "name": "stderr",
     "output_type": "stream",
     "text": [
      "/tmp/ipykernel_4004025/1217752313.py:94: FutureWarning: You are using `torch.load` with `weights_only=False` (the current default value), which uses the default pickle module implicitly. It is possible to construct malicious pickle data which will execute arbitrary code during unpickling (See https://github.com/pytorch/pytorch/blob/main/SECURITY.md#untrusted-models for more details). In a future release, the default value for `weights_only` will be flipped to `True`. This limits the functions that could be executed during unpickling. Arbitrary objects will no longer be allowed to be loaded via this mode unless they are explicitly allowlisted by the user via `torch.serialization.add_safe_globals`. We recommend you start setting `weights_only=True` for any use case where you don't have full control of the loaded file. Please open an issue on GitHub for any issues related to this experimental feature.\n",
      "  model.load_state_dict(torch.load(model_path, map_location=device))\n",
      "Evaluating Fold 1: 100%|██████████| 187/187 [00:07<00:00, 25.02it/s]\n"
     ]
    },
    {
     "name": "stdout",
     "output_type": "stream",
     "text": [
      "Fold 1 - Balanced Accuracy: 0.7234, AUROC: 0.8438\n",
      "\n",
      "--- Inference: Fold 2 ---\n"
     ]
    },
    {
     "name": "stderr",
     "output_type": "stream",
     "text": [
      "/tmp/ipykernel_4004025/1217752313.py:94: FutureWarning: You are using `torch.load` with `weights_only=False` (the current default value), which uses the default pickle module implicitly. It is possible to construct malicious pickle data which will execute arbitrary code during unpickling (See https://github.com/pytorch/pytorch/blob/main/SECURITY.md#untrusted-models for more details). In a future release, the default value for `weights_only` will be flipped to `True`. This limits the functions that could be executed during unpickling. Arbitrary objects will no longer be allowed to be loaded via this mode unless they are explicitly allowlisted by the user via `torch.serialization.add_safe_globals`. We recommend you start setting `weights_only=True` for any use case where you don't have full control of the loaded file. Please open an issue on GitHub for any issues related to this experimental feature.\n",
      "  model.load_state_dict(torch.load(model_path, map_location=device))\n",
      "Evaluating Fold 2: 100%|██████████| 187/187 [00:07<00:00, 25.08it/s]\n"
     ]
    },
    {
     "name": "stdout",
     "output_type": "stream",
     "text": [
      "Fold 2 - Balanced Accuracy: 0.7845, AUROC: 0.8508\n",
      "\n",
      "--- Inference: Fold 3 ---\n"
     ]
    },
    {
     "name": "stderr",
     "output_type": "stream",
     "text": [
      "/tmp/ipykernel_4004025/1217752313.py:94: FutureWarning: You are using `torch.load` with `weights_only=False` (the current default value), which uses the default pickle module implicitly. It is possible to construct malicious pickle data which will execute arbitrary code during unpickling (See https://github.com/pytorch/pytorch/blob/main/SECURITY.md#untrusted-models for more details). In a future release, the default value for `weights_only` will be flipped to `True`. This limits the functions that could be executed during unpickling. Arbitrary objects will no longer be allowed to be loaded via this mode unless they are explicitly allowlisted by the user via `torch.serialization.add_safe_globals`. We recommend you start setting `weights_only=True` for any use case where you don't have full control of the loaded file. Please open an issue on GitHub for any issues related to this experimental feature.\n",
      "  model.load_state_dict(torch.load(model_path, map_location=device))\n",
      "Evaluating Fold 3: 100%|██████████| 187/187 [00:07<00:00, 25.11it/s]\n"
     ]
    },
    {
     "name": "stdout",
     "output_type": "stream",
     "text": [
      "Fold 3 - Balanced Accuracy: 0.7572, AUROC: 0.8516\n",
      "\n",
      "--- Inference: Fold 4 ---\n"
     ]
    },
    {
     "name": "stderr",
     "output_type": "stream",
     "text": [
      "/tmp/ipykernel_4004025/1217752313.py:94: FutureWarning: You are using `torch.load` with `weights_only=False` (the current default value), which uses the default pickle module implicitly. It is possible to construct malicious pickle data which will execute arbitrary code during unpickling (See https://github.com/pytorch/pytorch/blob/main/SECURITY.md#untrusted-models for more details). In a future release, the default value for `weights_only` will be flipped to `True`. This limits the functions that could be executed during unpickling. Arbitrary objects will no longer be allowed to be loaded via this mode unless they are explicitly allowlisted by the user via `torch.serialization.add_safe_globals`. We recommend you start setting `weights_only=True` for any use case where you don't have full control of the loaded file. Please open an issue on GitHub for any issues related to this experimental feature.\n",
      "  model.load_state_dict(torch.load(model_path, map_location=device))\n",
      "Evaluating Fold 4: 100%|██████████| 187/187 [00:07<00:00, 25.10it/s]\n"
     ]
    },
    {
     "name": "stdout",
     "output_type": "stream",
     "text": [
      "Fold 4 - Balanced Accuracy: 0.8112, AUROC: 0.8713\n",
      "\n",
      "--- Inference: Fold 5 ---\n"
     ]
    },
    {
     "name": "stderr",
     "output_type": "stream",
     "text": [
      "/tmp/ipykernel_4004025/1217752313.py:94: FutureWarning: You are using `torch.load` with `weights_only=False` (the current default value), which uses the default pickle module implicitly. It is possible to construct malicious pickle data which will execute arbitrary code during unpickling (See https://github.com/pytorch/pytorch/blob/main/SECURITY.md#untrusted-models for more details). In a future release, the default value for `weights_only` will be flipped to `True`. This limits the functions that could be executed during unpickling. Arbitrary objects will no longer be allowed to be loaded via this mode unless they are explicitly allowlisted by the user via `torch.serialization.add_safe_globals`. We recommend you start setting `weights_only=True` for any use case where you don't have full control of the loaded file. Please open an issue on GitHub for any issues related to this experimental feature.\n",
      "  model.load_state_dict(torch.load(model_path, map_location=device))\n",
      "Evaluating Fold 5: 100%|██████████| 187/187 [00:07<00:00, 25.02it/s]\n"
     ]
    },
    {
     "name": "stdout",
     "output_type": "stream",
     "text": [
      "Fold 5 - Balanced Accuracy: 0.7529, AUROC: 0.8442\n",
      "\n",
      "--- Final Evaluation Summary (Hoptimus-1 LoRA) ---\n",
      "Balanced Accuracy: 0.7658 ± 0.0298\n",
      "AUROC: 0.8524 ± 0.0100\n",
      "Saved predictions to: hoptimus1_atnorm-br_test_predictions.pkl\n"
     ]
    }
   ],
   "source": [
    "import os\n",
    "import torch\n",
    "import torch.nn as nn\n",
    "from torch.utils.data import Dataset, DataLoader\n",
    "from torchvision import transforms\n",
    "from PIL import Image\n",
    "from tqdm import tqdm\n",
    "import numpy as np\n",
    "import pandas as pd\n",
    "from sklearn.metrics import balanced_accuracy_score, roc_auc_score\n",
    "from huggingface_hub import login\n",
    "import timm\n",
    "from peft import get_peft_model, LoraConfig\n",
    "import pickle\n",
    "\n",
    "# Device setup\n",
    "device = torch.device(\"cuda\" if torch.cuda.is_available() else \"cpu\")\n",
    "\n",
    "# Hugging Face login\n",
    "login(token=\"Your HuggingFace Token Here\")\n",
    "\n",
    "# LoRA configuration\n",
    "lora_config = LoraConfig(\n",
    "    r=8,\n",
    "    lora_alpha=16,\n",
    "    target_modules=[\"qkv\", \"proj\", \"fc1\", \"fc2\"],\n",
    "    lora_dropout=0.3,\n",
    "    bias=\"none\",\n",
    "    modules_to_save=[\"head\"]\n",
    ")\n",
    "\n",
    "# Image transform for test set\n",
    "test_transform = transforms.Compose([\n",
    "    transforms.Resize(224),\n",
    "    transforms.ToTensor(),\n",
    "    transforms.Normalize(mean=(0.707223, 0.578729, 0.703617),\n",
    "                         std=(0.211883, 0.230117, 0.177517))\n",
    "])\n",
    "\n",
    "# Dataset for inference\n",
    "class TestImageDataset(Dataset):\n",
    "    def __init__(self, image_paths, labels, transform):\n",
    "        self.image_paths = image_paths\n",
    "        self.labels = labels\n",
    "        self.transform = transform\n",
    "\n",
    "    def __len__(self):\n",
    "        return len(self.image_paths)\n",
    "\n",
    "    def __getitem__(self, idx):\n",
    "        image = Image.open(self.image_paths[idx]).convert(\"RGB\")\n",
    "        image = self.transform(image)\n",
    "        label = torch.tensor(self.labels[idx], dtype=torch.float32).unsqueeze(0)\n",
    "        return image, label\n",
    "\n",
    "# Load test data\n",
    "test_root = \"/data/MELBA-AmiBr/Datasets_Stratified/AtNorM-Br\"\n",
    "class_map = {\"Atypical\": 0, \"Normal\": 1}\n",
    "image_paths, labels = [], []\n",
    "\n",
    "for class_name, label in class_map.items():\n",
    "    class_dir = os.path.join(test_root, class_name)\n",
    "    for fname in os.listdir(class_dir):\n",
    "        if fname.lower().endswith((\".jpg\", \".jpeg\", \".png\", \".tif\")):\n",
    "            image_paths.append(os.path.join(class_dir, fname))\n",
    "            labels.append(label)\n",
    "\n",
    "# Create dataset and loader\n",
    "test_dataset = TestImageDataset(image_paths, labels, test_transform)\n",
    "test_loader = DataLoader(test_dataset, batch_size=4, shuffle=False, num_workers=2, pin_memory=True)\n",
    "\n",
    "# Inference loop per fold to avoid OOM\n",
    "true_labels = np.array(labels)\n",
    "fold_bal_accs, fold_aurocs = [], []\n",
    "fold_probs_dict = {}\n",
    "num_folds = 5\n",
    "\n",
    "for i in range(num_folds):\n",
    "    print(f\"\\n--- Inference: Fold {i + 1} ---\")\n",
    "\n",
    "    # Load and prepare model\n",
    "    model_path = f\"hoptimus1_lora_fold_{i + 1}_best.pth\"\n",
    "    base_model = timm.create_model(\n",
    "        \"hf-hub:bioptimus/H-optimus-1\",\n",
    "        pretrained=True,\n",
    "        num_classes=0,\n",
    "        init_values=1e-5,\n",
    "        dynamic_img_size=False\n",
    "    )\n",
    "    base_model.head = nn.Linear(base_model.num_features, 1)\n",
    "    base_model = base_model.to(device)\n",
    "\n",
    "    model = get_peft_model(base_model, lora_config)\n",
    "    model.load_state_dict(torch.load(model_path, map_location=device))\n",
    "    model.eval()\n",
    "\n",
    "    fold_probs = []\n",
    "\n",
    "    with torch.inference_mode(), torch.autocast(device_type=\"cuda\", dtype=torch.float16):\n",
    "        for images_batch, _ in tqdm(test_loader, desc=f\"Evaluating Fold {i + 1}\"):\n",
    "            images_batch = images_batch.to(device, non_blocking=True)\n",
    "            logits = model(images_batch)\n",
    "            probs = torch.sigmoid(logits).squeeze(1).cpu().numpy()\n",
    "            fold_probs.extend(probs)\n",
    "\n",
    "    fold_probs = np.array(fold_probs)\n",
    "    fold_preds = (fold_probs > 0.5).astype(int)\n",
    "\n",
    "    bal_acc = balanced_accuracy_score(true_labels, fold_preds)\n",
    "    auroc = roc_auc_score(true_labels, fold_probs)\n",
    "\n",
    "    fold_bal_accs.append(bal_acc)\n",
    "    fold_aurocs.append(auroc)\n",
    "\n",
    "    print(f\"Fold {i + 1} - Balanced Accuracy: {bal_acc:.4f}, AUROC: {auroc:.4f}\")\n",
    "\n",
    "    fold_probs_dict[f\"fold_{i + 1}\"] = {\n",
    "        \"probs\": fold_probs,\n",
    "        \"preds\": fold_preds,\n",
    "        \"true_labels\": true_labels\n",
    "    }\n",
    "\n",
    "    # Clean up GPU memory\n",
    "    del model\n",
    "    del base_model\n",
    "    torch.cuda.empty_cache()\n",
    "\n",
    "# Summary\n",
    "mean_bal_acc = np.mean(fold_bal_accs)\n",
    "std_bal_acc = np.std(fold_bal_accs)\n",
    "mean_auroc = np.mean(fold_aurocs)\n",
    "std_auroc = np.std(fold_aurocs)\n",
    "\n",
    "print(\"\\n--- Final Evaluation Summary (Hoptimus-1 LoRA) ---\")\n",
    "print(f\"Balanced Accuracy: {mean_bal_acc:.4f} ± {std_bal_acc:.4f}\")\n",
    "print(f\"AUROC: {mean_auroc:.4f} ± {std_auroc:.4f}\")\n",
    "\n",
    "# Save results\n",
    "output_path = \"hoptimus1_atnorm-br_test_predictions.pkl\"\n",
    "with open(output_path, \"wb\") as f:\n",
    "    pickle.dump(fold_probs_dict, f)\n",
    "\n",
    "print(f\"Saved predictions to: {output_path}\")\n"
   ]
  },
  {
   "cell_type": "markdown",
   "id": "eb6a6ba2",
   "metadata": {},
   "source": [
    "## AtNorM-MD"
   ]
  },
  {
   "cell_type": "code",
   "execution_count": null,
   "id": "96ee08bd",
   "metadata": {},
   "outputs": [
    {
     "name": "stdout",
     "output_type": "stream",
     "text": [
      "\n",
      "--- Inference: Fold 1 ---\n"
     ]
    },
    {
     "name": "stderr",
     "output_type": "stream",
     "text": [
      "/tmp/ipykernel_4004025/3761427698.py:94: FutureWarning: You are using `torch.load` with `weights_only=False` (the current default value), which uses the default pickle module implicitly. It is possible to construct malicious pickle data which will execute arbitrary code during unpickling (See https://github.com/pytorch/pytorch/blob/main/SECURITY.md#untrusted-models for more details). In a future release, the default value for `weights_only` will be flipped to `True`. This limits the functions that could be executed during unpickling. Arbitrary objects will no longer be allowed to be loaded via this mode unless they are explicitly allowlisted by the user via `torch.serialization.add_safe_globals`. We recommend you start setting `weights_only=True` for any use case where you don't have full control of the loaded file. Please open an issue on GitHub for any issues related to this experimental feature.\n",
      "  model.load_state_dict(torch.load(model_path, map_location=device))\n",
      "Evaluating Fold 1: 100%|██████████| 527/527 [00:20<00:00, 25.55it/s]\n"
     ]
    },
    {
     "name": "stdout",
     "output_type": "stream",
     "text": [
      "Fold 1 - Balanced Accuracy: 0.7350, AUROC: 0.8258\n",
      "\n",
      "--- Inference: Fold 2 ---\n"
     ]
    },
    {
     "name": "stderr",
     "output_type": "stream",
     "text": [
      "/tmp/ipykernel_4004025/3761427698.py:94: FutureWarning: You are using `torch.load` with `weights_only=False` (the current default value), which uses the default pickle module implicitly. It is possible to construct malicious pickle data which will execute arbitrary code during unpickling (See https://github.com/pytorch/pytorch/blob/main/SECURITY.md#untrusted-models for more details). In a future release, the default value for `weights_only` will be flipped to `True`. This limits the functions that could be executed during unpickling. Arbitrary objects will no longer be allowed to be loaded via this mode unless they are explicitly allowlisted by the user via `torch.serialization.add_safe_globals`. We recommend you start setting `weights_only=True` for any use case where you don't have full control of the loaded file. Please open an issue on GitHub for any issues related to this experimental feature.\n",
      "  model.load_state_dict(torch.load(model_path, map_location=device))\n",
      "Evaluating Fold 2: 100%|██████████| 527/527 [00:20<00:00, 25.61it/s]\n"
     ]
    },
    {
     "name": "stdout",
     "output_type": "stream",
     "text": [
      "Fold 2 - Balanced Accuracy: 0.7409, AUROC: 0.8332\n",
      "\n",
      "--- Inference: Fold 3 ---\n"
     ]
    },
    {
     "name": "stderr",
     "output_type": "stream",
     "text": [
      "/tmp/ipykernel_4004025/3761427698.py:94: FutureWarning: You are using `torch.load` with `weights_only=False` (the current default value), which uses the default pickle module implicitly. It is possible to construct malicious pickle data which will execute arbitrary code during unpickling (See https://github.com/pytorch/pytorch/blob/main/SECURITY.md#untrusted-models for more details). In a future release, the default value for `weights_only` will be flipped to `True`. This limits the functions that could be executed during unpickling. Arbitrary objects will no longer be allowed to be loaded via this mode unless they are explicitly allowlisted by the user via `torch.serialization.add_safe_globals`. We recommend you start setting `weights_only=True` for any use case where you don't have full control of the loaded file. Please open an issue on GitHub for any issues related to this experimental feature.\n",
      "  model.load_state_dict(torch.load(model_path, map_location=device))\n",
      "Evaluating Fold 3: 100%|██████████| 527/527 [00:20<00:00, 25.56it/s]\n"
     ]
    },
    {
     "name": "stdout",
     "output_type": "stream",
     "text": [
      "Fold 3 - Balanced Accuracy: 0.7384, AUROC: 0.8366\n",
      "\n",
      "--- Inference: Fold 4 ---\n"
     ]
    },
    {
     "name": "stderr",
     "output_type": "stream",
     "text": [
      "/tmp/ipykernel_4004025/3761427698.py:94: FutureWarning: You are using `torch.load` with `weights_only=False` (the current default value), which uses the default pickle module implicitly. It is possible to construct malicious pickle data which will execute arbitrary code during unpickling (See https://github.com/pytorch/pytorch/blob/main/SECURITY.md#untrusted-models for more details). In a future release, the default value for `weights_only` will be flipped to `True`. This limits the functions that could be executed during unpickling. Arbitrary objects will no longer be allowed to be loaded via this mode unless they are explicitly allowlisted by the user via `torch.serialization.add_safe_globals`. We recommend you start setting `weights_only=True` for any use case where you don't have full control of the loaded file. Please open an issue on GitHub for any issues related to this experimental feature.\n",
      "  model.load_state_dict(torch.load(model_path, map_location=device))\n",
      "Evaluating Fold 4: 100%|██████████| 527/527 [00:22<00:00, 22.98it/s]\n"
     ]
    },
    {
     "name": "stdout",
     "output_type": "stream",
     "text": [
      "Fold 4 - Balanced Accuracy: 0.7102, AUROC: 0.8569\n",
      "\n",
      "--- Inference: Fold 5 ---\n"
     ]
    },
    {
     "name": "stderr",
     "output_type": "stream",
     "text": [
      "/tmp/ipykernel_4004025/3761427698.py:94: FutureWarning: You are using `torch.load` with `weights_only=False` (the current default value), which uses the default pickle module implicitly. It is possible to construct malicious pickle data which will execute arbitrary code during unpickling (See https://github.com/pytorch/pytorch/blob/main/SECURITY.md#untrusted-models for more details). In a future release, the default value for `weights_only` will be flipped to `True`. This limits the functions that could be executed during unpickling. Arbitrary objects will no longer be allowed to be loaded via this mode unless they are explicitly allowlisted by the user via `torch.serialization.add_safe_globals`. We recommend you start setting `weights_only=True` for any use case where you don't have full control of the loaded file. Please open an issue on GitHub for any issues related to this experimental feature.\n",
      "  model.load_state_dict(torch.load(model_path, map_location=device))\n",
      "Evaluating Fold 5: 100%|██████████| 527/527 [00:27<00:00, 19.10it/s]\n"
     ]
    },
    {
     "name": "stdout",
     "output_type": "stream",
     "text": [
      "Fold 5 - Balanced Accuracy: 0.7734, AUROC: 0.8421\n",
      "\n",
      "--- Final Evaluation Summary (Hoptimus-1 LoRA) ---\n",
      "Balanced Accuracy: 0.7396 ± 0.0202\n",
      "AUROC: 0.8389 ± 0.0104\n",
      "Saved predictions to: hoptimus1_atnorm-md_test_predictions.pkl\n"
     ]
    }
   ],
   "source": [
    "import os\n",
    "import torch\n",
    "import torch.nn as nn\n",
    "from torch.utils.data import Dataset, DataLoader\n",
    "from torchvision import transforms\n",
    "from PIL import Image\n",
    "from tqdm import tqdm\n",
    "import numpy as np\n",
    "import pandas as pd\n",
    "from sklearn.metrics import balanced_accuracy_score, roc_auc_score\n",
    "from huggingface_hub import login\n",
    "import timm\n",
    "from peft import get_peft_model, LoraConfig\n",
    "import pickle\n",
    "\n",
    "# Device setup\n",
    "device = torch.device(\"cuda\" if torch.cuda.is_available() else \"cpu\")\n",
    "\n",
    "# Hugging Face login\n",
    "login(token=\"Your HuggingFace Token Here\")\n",
    "\n",
    "# LoRA configuration\n",
    "lora_config = LoraConfig(\n",
    "    r=8,\n",
    "    lora_alpha=16,\n",
    "    target_modules=[\"qkv\", \"proj\", \"fc1\", \"fc2\"],\n",
    "    lora_dropout=0.3,\n",
    "    bias=\"none\",\n",
    "    modules_to_save=[\"head\"]\n",
    ")\n",
    "\n",
    "# Image transform for test set\n",
    "test_transform = transforms.Compose([\n",
    "    transforms.Resize(224),\n",
    "    transforms.ToTensor(),\n",
    "    transforms.Normalize(mean=(0.707223, 0.578729, 0.703617),\n",
    "                         std=(0.211883, 0.230117, 0.177517))\n",
    "])\n",
    "\n",
    "# Dataset for inference\n",
    "class TestImageDataset(Dataset):\n",
    "    def __init__(self, image_paths, labels, transform):\n",
    "        self.image_paths = image_paths\n",
    "        self.labels = labels\n",
    "        self.transform = transform\n",
    "\n",
    "    def __len__(self):\n",
    "        return len(self.image_paths)\n",
    "\n",
    "    def __getitem__(self, idx):\n",
    "        image = Image.open(self.image_paths[idx]).convert(\"RGB\")\n",
    "        image = self.transform(image)\n",
    "        label = torch.tensor(self.labels[idx], dtype=torch.float32).unsqueeze(0)\n",
    "        return image, label\n",
    "\n",
    "# Load test data\n",
    "test_root = \"/data/MELBA-AmiBr/Datasets_Stratified/AtNorM-MD\"\n",
    "class_map = {\"Atypical\": 0, \"Normal\": 1}\n",
    "image_paths, labels = [], []\n",
    "\n",
    "for class_name, label in class_map.items():\n",
    "    class_dir = os.path.join(test_root, class_name)\n",
    "    for fname in os.listdir(class_dir):\n",
    "        if fname.lower().endswith((\".jpg\", \".jpeg\", \".png\", \".tif\")):\n",
    "            image_paths.append(os.path.join(class_dir, fname))\n",
    "            labels.append(label)\n",
    "\n",
    "# Create dataset and loader\n",
    "test_dataset = TestImageDataset(image_paths, labels, test_transform)\n",
    "test_loader = DataLoader(test_dataset, batch_size=4, shuffle=False, num_workers=2, pin_memory=True)\n",
    "\n",
    "# Inference loop per fold to avoid OOM\n",
    "true_labels = np.array(labels)\n",
    "fold_bal_accs, fold_aurocs = [], []\n",
    "fold_probs_dict = {}\n",
    "num_folds = 5\n",
    "\n",
    "for i in range(num_folds):\n",
    "    print(f\"\\n--- Inference: Fold {i + 1} ---\")\n",
    "\n",
    "    # Load and prepare model\n",
    "    model_path = f\"hoptimus1_lora_fold_{i + 1}_best.pth\"\n",
    "    base_model = timm.create_model(\n",
    "        \"hf-hub:bioptimus/H-optimus-1\",\n",
    "        pretrained=True,\n",
    "        num_classes=0,\n",
    "        init_values=1e-5,\n",
    "        dynamic_img_size=False\n",
    "    )\n",
    "    base_model.head = nn.Linear(base_model.num_features, 1)\n",
    "    base_model = base_model.to(device)\n",
    "\n",
    "    model = get_peft_model(base_model, lora_config)\n",
    "    model.load_state_dict(torch.load(model_path, map_location=device))\n",
    "    model.eval()\n",
    "\n",
    "    fold_probs = []\n",
    "\n",
    "    with torch.inference_mode(), torch.autocast(device_type=\"cuda\", dtype=torch.float16):\n",
    "        for images_batch, _ in tqdm(test_loader, desc=f\"Evaluating Fold {i + 1}\"):\n",
    "            images_batch = images_batch.to(device, non_blocking=True)\n",
    "            logits = model(images_batch)\n",
    "            probs = torch.sigmoid(logits).squeeze(1).cpu().numpy()\n",
    "            fold_probs.extend(probs)\n",
    "\n",
    "    fold_probs = np.array(fold_probs)\n",
    "    fold_preds = (fold_probs > 0.5).astype(int)\n",
    "\n",
    "    bal_acc = balanced_accuracy_score(true_labels, fold_preds)\n",
    "    auroc = roc_auc_score(true_labels, fold_probs)\n",
    "\n",
    "    fold_bal_accs.append(bal_acc)\n",
    "    fold_aurocs.append(auroc)\n",
    "\n",
    "    print(f\"Fold {i + 1} - Balanced Accuracy: {bal_acc:.4f}, AUROC: {auroc:.4f}\")\n",
    "\n",
    "    fold_probs_dict[f\"fold_{i + 1}\"] = {\n",
    "        \"probs\": fold_probs,\n",
    "        \"preds\": fold_preds,\n",
    "        \"true_labels\": true_labels\n",
    "    }\n",
    "\n",
    "    # Clean up GPU memory\n",
    "    del model\n",
    "    del base_model\n",
    "    torch.cuda.empty_cache()\n",
    "\n",
    "# Summary\n",
    "mean_bal_acc = np.mean(fold_bal_accs)\n",
    "std_bal_acc = np.std(fold_bal_accs)\n",
    "mean_auroc = np.mean(fold_aurocs)\n",
    "std_auroc = np.std(fold_aurocs)\n",
    "\n",
    "print(\"\\n--- Final Evaluation Summary (Hoptimus-1 LoRA) ---\")\n",
    "print(f\"Balanced Accuracy: {mean_bal_acc:.4f} ± {std_bal_acc:.4f}\")\n",
    "print(f\"AUROC: {mean_auroc:.4f} ± {std_auroc:.4f}\")\n",
    "\n",
    "# Save results\n",
    "output_path = \"hoptimus1_atnorm-md_test_predictions.pkl\"\n",
    "with open(output_path, \"wb\") as f:\n",
    "    pickle.dump(fold_probs_dict, f)\n",
    "\n",
    "print(f\"Saved predictions to: {output_path}\")\n"
   ]
  },
  {
   "cell_type": "code",
   "execution_count": null,
   "id": "89fefe32",
   "metadata": {},
   "outputs": [],
   "source": []
  },
  {
   "cell_type": "code",
   "execution_count": null,
   "id": "769ca831",
   "metadata": {},
   "outputs": [],
   "source": []
  }
 ],
 "metadata": {
  "kernelspec": {
   "display_name": "melbaAmiBr",
   "language": "python",
   "name": "python3"
  },
  "language_info": {
   "codemirror_mode": {
    "name": "ipython",
    "version": 3
   },
   "file_extension": ".py",
   "mimetype": "text/x-python",
   "name": "python",
   "nbconvert_exporter": "python",
   "pygments_lexer": "ipython3",
   "version": "3.10.17"
  }
 },
 "nbformat": 4,
 "nbformat_minor": 5
}
