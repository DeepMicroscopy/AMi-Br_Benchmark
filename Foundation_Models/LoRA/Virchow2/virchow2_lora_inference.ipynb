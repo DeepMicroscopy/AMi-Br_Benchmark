{
 "cells": [
  {
   "cell_type": "markdown",
   "metadata": {},
   "source": [
    "## Ami-Br"
   ]
  },
  {
   "cell_type": "code",
   "execution_count": null,
   "metadata": {},
   "outputs": [
    {
     "name": "stderr",
     "output_type": "stream",
     "text": [
      "/tmp/ipykernel_21692/4142035261.py:89: FutureWarning: You are using `torch.load` with `weights_only=False` (the current default value), which uses the default pickle module implicitly. It is possible to construct malicious pickle data which will execute arbitrary code during unpickling (See https://github.com/pytorch/pytorch/blob/main/SECURITY.md#untrusted-models for more details). In a future release, the default value for `weights_only` will be flipped to `True`. This limits the functions that could be executed during unpickling. Arbitrary objects will no longer be allowed to be loaded via this mode unless they are explicitly allowlisted by the user via `torch.serialization.add_safe_globals`. We recommend you start setting `weights_only=True` for any use case where you don't have full control of the loaded file. Please open an issue on GitHub for any issues related to this experimental feature.\n",
      "  model.load_state_dict(torch.load(path, map_location=device))\n",
      "Inference Fold 1: 100%|██████████| 52/52 [00:11<00:00,  4.50it/s]\n"
     ]
    },
    {
     "name": "stdout",
     "output_type": "stream",
     "text": [
      "\n",
      "Fold 1 - Balanced Accuracy: 0.7914, AUROC: 0.8986\n"
     ]
    },
    {
     "name": "stderr",
     "output_type": "stream",
     "text": [
      "Inference Fold 2: 100%|██████████| 52/52 [00:11<00:00,  4.60it/s]\n"
     ]
    },
    {
     "name": "stdout",
     "output_type": "stream",
     "text": [
      "\n",
      "Fold 2 - Balanced Accuracy: 0.8100, AUROC: 0.9012\n"
     ]
    },
    {
     "name": "stderr",
     "output_type": "stream",
     "text": [
      "Inference Fold 3: 100%|██████████| 52/52 [00:11<00:00,  4.60it/s]\n"
     ]
    },
    {
     "name": "stdout",
     "output_type": "stream",
     "text": [
      "\n",
      "Fold 3 - Balanced Accuracy: 0.8135, AUROC: 0.8964\n"
     ]
    },
    {
     "name": "stderr",
     "output_type": "stream",
     "text": [
      "Inference Fold 4: 100%|██████████| 52/52 [00:11<00:00,  4.58it/s]\n"
     ]
    },
    {
     "name": "stdout",
     "output_type": "stream",
     "text": [
      "\n",
      "Fold 4 - Balanced Accuracy: 0.8367, AUROC: 0.9070\n"
     ]
    },
    {
     "name": "stderr",
     "output_type": "stream",
     "text": [
      "Inference Fold 5: 100%|██████████| 52/52 [00:11<00:00,  4.59it/s]"
     ]
    },
    {
     "name": "stdout",
     "output_type": "stream",
     "text": [
      "\n",
      "Fold 5 - Balanced Accuracy: 0.8162, AUROC: 0.9100\n",
      "\n",
      "--- Per-Fold Evaluation Summary (LoRA Virchow2) ---\n",
      "Balanced Accuracy: 0.8135 ± 0.0145\n",
      "AUROC: 0.9026 ± 0.0051\n",
      "\n",
      "Saved fold predictions and labels to: virchow2_amibr_test_predictions.pkl\n"
     ]
    },
    {
     "name": "stderr",
     "output_type": "stream",
     "text": [
      "\n"
     ]
    }
   ],
   "source": [
    "import os\n",
    "import torch\n",
    "import torch.nn as nn\n",
    "from torch.utils.data import Dataset, DataLoader\n",
    "from PIL import Image\n",
    "from tqdm import tqdm\n",
    "import numpy as np\n",
    "import pandas as pd\n",
    "from sklearn.metrics import balanced_accuracy_score, roc_auc_score\n",
    "from huggingface_hub import login\n",
    "from timm import create_model\n",
    "from timm.layers import SwiGLUPacked\n",
    "from torchvision import transforms\n",
    "from peft import LoraConfig, get_peft_model\n",
    "import pickle\n",
    "\n",
    "# Device setup\n",
    "device = torch.device(\"cuda\" if torch.cuda.is_available() else \"cpu\")\n",
    "\n",
    "# Hugging Face login\n",
    "login(token=\"your_huggingface_token_here\")  # Replace with your Hugging Face token\n",
    "\n",
    "# Image transform (same as val_transform from training)\n",
    "val_transform = transforms.Compose([\n",
    "    transforms.Resize(224),\n",
    "    transforms.CenterCrop(224),\n",
    "    transforms.ToTensor(),\n",
    "    transforms.Normalize(mean=(0.5, 0.5, 0.5), std=(0.5, 0.5, 0.5))\n",
    "])\n",
    "\n",
    "# Inference Dataset\n",
    "class InferenceDataset(Dataset):\n",
    "    def __init__(self, image_paths, labels, transform):\n",
    "        self.image_paths = image_paths\n",
    "        self.labels = labels\n",
    "        self.transform = transform\n",
    "\n",
    "    def __len__(self):\n",
    "        return len(self.image_paths)\n",
    "\n",
    "    def __getitem__(self, idx):\n",
    "        image = Image.open(self.image_paths[idx]).convert(\"RGB\")\n",
    "        image = self.transform(image)\n",
    "        label = torch.tensor(self.labels[idx], dtype=torch.float32).unsqueeze(0)\n",
    "        return image, label\n",
    "\n",
    "# LoRA Config (must match training config)\n",
    "lora_config = LoraConfig(\n",
    "    r=8,\n",
    "    lora_alpha=16,\n",
    "    target_modules=[\"qkv\", \"proj\", \"fc1\", \"fc2\"],\n",
    "    lora_dropout=0.3,\n",
    "    bias=\"none\",\n",
    "    modules_to_save=[\"head\"]\n",
    ")\n",
    "\n",
    "# Load test data\n",
    "test_root = \"/data/MELBA-AmiBr/Datasets_Stratified/AMi-Br/Test\"\n",
    "class_map = {\"Atypical\": 0, \"Normal\": 1}\n",
    "image_paths, labels = [], []\n",
    "\n",
    "for class_name, label_val in class_map.items():\n",
    "    class_folder = os.path.join(test_root, class_name)\n",
    "    for fname in os.listdir(class_folder):\n",
    "        if fname.lower().endswith(('.jpg', '.jpeg', '.png', '.tif')):\n",
    "            image_paths.append(os.path.join(class_folder, fname))\n",
    "            labels.append(label_val)\n",
    "\n",
    "# Prepare dataset and dataloader\n",
    "test_dataset = InferenceDataset(image_paths, labels, val_transform)\n",
    "test_loader = DataLoader(test_dataset, batch_size=16, shuffle=False, num_workers=8, pin_memory=True)\n",
    "\n",
    "# Load trained LoRA models for each fold\n",
    "num_folds = 5\n",
    "model_paths = [f\"virchow2_lora_fold_{i + 1}_best.pth\" for i in range(num_folds)]\n",
    "models = []\n",
    "\n",
    "for path in model_paths:\n",
    "    base_model = create_model(\n",
    "        \"hf-hub:paige-ai/Virchow2\",\n",
    "        pretrained=True,\n",
    "        mlp_layer=SwiGLUPacked,\n",
    "        act_layer=torch.nn.SiLU\n",
    "    )\n",
    "    base_model.reset_classifier(num_classes=1)\n",
    "    base_model = base_model.to(device)\n",
    "\n",
    "    model = get_peft_model(base_model, lora_config)\n",
    "    model.load_state_dict(torch.load(path, map_location=device))\n",
    "    model.eval()\n",
    "    models.append(model)\n",
    "\n",
    "# Inference\n",
    "true_labels = np.array(labels)\n",
    "fold_bal_accs, fold_aurocs = [], []\n",
    "fold_probs_dict = {}\n",
    "\n",
    "for i, model in enumerate(models):\n",
    "    fold_probs = []\n",
    "\n",
    "    with torch.no_grad():\n",
    "        for images, _ in tqdm(test_loader, desc=f\"Inference Fold {i + 1}\"):\n",
    "            images = images.to(device)\n",
    "            outputs = model(images)\n",
    "\n",
    "            if outputs.ndim == 3:\n",
    "                outputs = outputs[:, 0]\n",
    "\n",
    "            if outputs.ndim == 1:\n",
    "                outputs = outputs.unsqueeze(1)\n",
    "            elif outputs.ndim == 2 and outputs.size(1) != 1:\n",
    "                outputs = outputs[:, :1]\n",
    "\n",
    "            probs = torch.sigmoid(outputs).squeeze(1).cpu().numpy()\n",
    "            fold_probs.extend(probs)\n",
    "\n",
    "    fold_probs = np.array(fold_probs)\n",
    "    fold_preds = (fold_probs > 0.5).astype(int)\n",
    "\n",
    "    bal_acc = balanced_accuracy_score(true_labels, fold_preds)\n",
    "    auroc = roc_auc_score(true_labels, fold_probs)\n",
    "\n",
    "    fold_bal_accs.append(bal_acc)\n",
    "    fold_aurocs.append(auroc)\n",
    "\n",
    "    print(f\"\\nFold {i + 1} - Balanced Accuracy: {bal_acc:.4f}, AUROC: {auroc:.4f}\")\n",
    "\n",
    "    fold_probs_dict[f\"fold_{i + 1}\"] = {\n",
    "        \"probs\": fold_probs,\n",
    "        \"preds\": fold_preds,\n",
    "        \"true_labels\": true_labels\n",
    "    }\n",
    "\n",
    "# Summary\n",
    "mean_bal_acc = np.mean(fold_bal_accs)\n",
    "std_bal_acc = np.std(fold_bal_accs)\n",
    "mean_auroc = np.mean(fold_aurocs)\n",
    "std_auroc = np.std(fold_aurocs)\n",
    "\n",
    "print(\"\\n--- Per-Fold Evaluation Summary (LoRA Virchow2) ---\")\n",
    "print(f\"Balanced Accuracy: {mean_bal_acc:.4f} ± {std_bal_acc:.4f}\")\n",
    "print(f\"AUROC: {mean_auroc:.4f} ± {std_auroc:.4f}\")\n",
    "\n",
    "# Save predictions\n",
    "output_path = \"virchow2_amibr_test_predictions.pkl\"\n",
    "with open(output_path, \"wb\") as f:\n",
    "    pickle.dump(fold_probs_dict, f)\n",
    "\n",
    "print(f\"\\nSaved fold predictions and labels to: {output_path}\")\n"
   ]
  },
  {
   "cell_type": "markdown",
   "metadata": {},
   "source": [
    "## AtNorM-Br"
   ]
  },
  {
   "cell_type": "code",
   "execution_count": null,
   "metadata": {},
   "outputs": [
    {
     "name": "stderr",
     "output_type": "stream",
     "text": [
      "/tmp/ipykernel_21692/4006929124.py:89: FutureWarning: You are using `torch.load` with `weights_only=False` (the current default value), which uses the default pickle module implicitly. It is possible to construct malicious pickle data which will execute arbitrary code during unpickling (See https://github.com/pytorch/pytorch/blob/main/SECURITY.md#untrusted-models for more details). In a future release, the default value for `weights_only` will be flipped to `True`. This limits the functions that could be executed during unpickling. Arbitrary objects will no longer be allowed to be loaded via this mode unless they are explicitly allowlisted by the user via `torch.serialization.add_safe_globals`. We recommend you start setting `weights_only=True` for any use case where you don't have full control of the loaded file. Please open an issue on GitHub for any issues related to this experimental feature.\n",
      "  model.load_state_dict(torch.load(path, map_location=device))\n",
      "Inference Fold 1: 100%|██████████| 47/47 [00:10<00:00,  4.58it/s]\n"
     ]
    },
    {
     "name": "stdout",
     "output_type": "stream",
     "text": [
      "\n",
      "Fold 1 - Balanced Accuracy: 0.7455, AUROC: 0.8644\n"
     ]
    },
    {
     "name": "stderr",
     "output_type": "stream",
     "text": [
      "Inference Fold 2: 100%|██████████| 47/47 [00:10<00:00,  4.56it/s]\n"
     ]
    },
    {
     "name": "stdout",
     "output_type": "stream",
     "text": [
      "\n",
      "Fold 2 - Balanced Accuracy: 0.7490, AUROC: 0.8592\n"
     ]
    },
    {
     "name": "stderr",
     "output_type": "stream",
     "text": [
      "Inference Fold 3: 100%|██████████| 47/47 [00:10<00:00,  4.64it/s]\n"
     ]
    },
    {
     "name": "stdout",
     "output_type": "stream",
     "text": [
      "\n",
      "Fold 3 - Balanced Accuracy: 0.7942, AUROC: 0.8740\n"
     ]
    },
    {
     "name": "stderr",
     "output_type": "stream",
     "text": [
      "Inference Fold 4: 100%|██████████| 47/47 [00:10<00:00,  4.56it/s]\n"
     ]
    },
    {
     "name": "stdout",
     "output_type": "stream",
     "text": [
      "\n",
      "Fold 4 - Balanced Accuracy: 0.7767, AUROC: 0.8527\n"
     ]
    },
    {
     "name": "stderr",
     "output_type": "stream",
     "text": [
      "Inference Fold 5: 100%|██████████| 47/47 [00:10<00:00,  4.51it/s]"
     ]
    },
    {
     "name": "stdout",
     "output_type": "stream",
     "text": [
      "\n",
      "Fold 5 - Balanced Accuracy: 0.7507, AUROC: 0.8391\n",
      "\n",
      "--- Per-Fold Evaluation Summary (LoRA Virchow2) ---\n",
      "Balanced Accuracy: 0.7632 ± 0.0190\n",
      "AUROC: 0.8579 ± 0.0117\n",
      "\n",
      "Saved fold predictions and labels to: virchow2_atnorm-br_test_predictions.pkl\n"
     ]
    },
    {
     "name": "stderr",
     "output_type": "stream",
     "text": [
      "\n"
     ]
    }
   ],
   "source": [
    "import os\n",
    "import torch\n",
    "import torch.nn as nn\n",
    "from torch.utils.data import Dataset, DataLoader\n",
    "from PIL import Image\n",
    "from tqdm import tqdm\n",
    "import numpy as np\n",
    "import pandas as pd\n",
    "from sklearn.metrics import balanced_accuracy_score, roc_auc_score\n",
    "from huggingface_hub import login\n",
    "from timm import create_model\n",
    "from timm.layers import SwiGLUPacked\n",
    "from torchvision import transforms\n",
    "from peft import LoraConfig, get_peft_model\n",
    "import pickle\n",
    "\n",
    "# Device setup\n",
    "device = torch.device(\"cuda\" if torch.cuda.is_available() else \"cpu\")\n",
    "\n",
    "# Hugging Face login\n",
    "login(token=\"your_huggingface_token_here\")  # Replace with your Hugging Face token\n",
    "\n",
    "# Image transform (same as val_transform from training)\n",
    "val_transform = transforms.Compose([\n",
    "    transforms.Resize(224),\n",
    "    transforms.CenterCrop(224),\n",
    "    transforms.ToTensor(),\n",
    "    transforms.Normalize(mean=(0.5, 0.5, 0.5), std=(0.5, 0.5, 0.5))\n",
    "])\n",
    "\n",
    "# Inference Dataset\n",
    "class InferenceDataset(Dataset):\n",
    "    def __init__(self, image_paths, labels, transform):\n",
    "        self.image_paths = image_paths\n",
    "        self.labels = labels\n",
    "        self.transform = transform\n",
    "\n",
    "    def __len__(self):\n",
    "        return len(self.image_paths)\n",
    "\n",
    "    def __getitem__(self, idx):\n",
    "        image = Image.open(self.image_paths[idx]).convert(\"RGB\")\n",
    "        image = self.transform(image)\n",
    "        label = torch.tensor(self.labels[idx], dtype=torch.float32).unsqueeze(0)\n",
    "        return image, label\n",
    "\n",
    "# LoRA Config (must match training config)\n",
    "lora_config = LoraConfig(\n",
    "    r=8,\n",
    "    lora_alpha=16,\n",
    "    target_modules=[\"qkv\", \"proj\", \"fc1\", \"fc2\"],\n",
    "    lora_dropout=0.3,\n",
    "    bias=\"none\",\n",
    "    modules_to_save=[\"head\"]\n",
    ")\n",
    "\n",
    "# Load test data\n",
    "test_root = \"/data/MELBA-AmiBr/Datasets_Stratified/AtNorM-Br\"\n",
    "class_map = {\"Atypical\": 0, \"Normal\": 1}\n",
    "image_paths, labels = [], []\n",
    "\n",
    "for class_name, label_val in class_map.items():\n",
    "    class_folder = os.path.join(test_root, class_name)\n",
    "    for fname in os.listdir(class_folder):\n",
    "        if fname.lower().endswith(('.jpg', '.jpeg', '.png', '.tif')):\n",
    "            image_paths.append(os.path.join(class_folder, fname))\n",
    "            labels.append(label_val)\n",
    "\n",
    "# Prepare dataset and dataloader\n",
    "test_dataset = InferenceDataset(image_paths, labels, val_transform)\n",
    "test_loader = DataLoader(test_dataset, batch_size=16, shuffle=False, num_workers=8, pin_memory=True)\n",
    "\n",
    "# Load trained LoRA models for each fold\n",
    "num_folds = 5\n",
    "model_paths = [f\"virchow2_lora_fold_{i + 1}_best.pth\" for i in range(num_folds)]\n",
    "models = []\n",
    "\n",
    "for path in model_paths:\n",
    "    base_model = create_model(\n",
    "        \"hf-hub:paige-ai/Virchow2\",\n",
    "        pretrained=True,\n",
    "        mlp_layer=SwiGLUPacked,\n",
    "        act_layer=torch.nn.SiLU\n",
    "    )\n",
    "    base_model.reset_classifier(num_classes=1)\n",
    "    base_model = base_model.to(device)\n",
    "\n",
    "    model = get_peft_model(base_model, lora_config)\n",
    "    model.load_state_dict(torch.load(path, map_location=device))\n",
    "    model.eval()\n",
    "    models.append(model)\n",
    "\n",
    "# Inference\n",
    "true_labels = np.array(labels)\n",
    "fold_bal_accs, fold_aurocs = [], []\n",
    "fold_probs_dict = {}\n",
    "\n",
    "for i, model in enumerate(models):\n",
    "    fold_probs = []\n",
    "\n",
    "    with torch.no_grad():\n",
    "        for images, _ in tqdm(test_loader, desc=f\"Inference Fold {i + 1}\"):\n",
    "            images = images.to(device)\n",
    "            outputs = model(images)\n",
    "\n",
    "            if outputs.ndim == 3:\n",
    "                outputs = outputs[:, 0]\n",
    "\n",
    "            if outputs.ndim == 1:\n",
    "                outputs = outputs.unsqueeze(1)\n",
    "            elif outputs.ndim == 2 and outputs.size(1) != 1:\n",
    "                outputs = outputs[:, :1]\n",
    "\n",
    "            probs = torch.sigmoid(outputs).squeeze(1).cpu().numpy()\n",
    "            fold_probs.extend(probs)\n",
    "\n",
    "    fold_probs = np.array(fold_probs)\n",
    "    fold_preds = (fold_probs > 0.5).astype(int)\n",
    "\n",
    "    bal_acc = balanced_accuracy_score(true_labels, fold_preds)\n",
    "    auroc = roc_auc_score(true_labels, fold_probs)\n",
    "\n",
    "    fold_bal_accs.append(bal_acc)\n",
    "    fold_aurocs.append(auroc)\n",
    "\n",
    "    print(f\"\\nFold {i + 1} - Balanced Accuracy: {bal_acc:.4f}, AUROC: {auroc:.4f}\")\n",
    "\n",
    "    fold_probs_dict[f\"fold_{i + 1}\"] = {\n",
    "        \"probs\": fold_probs,\n",
    "        \"preds\": fold_preds,\n",
    "        \"true_labels\": true_labels\n",
    "    }\n",
    "\n",
    "# Summary\n",
    "mean_bal_acc = np.mean(fold_bal_accs)\n",
    "std_bal_acc = np.std(fold_bal_accs)\n",
    "mean_auroc = np.mean(fold_aurocs)\n",
    "std_auroc = np.std(fold_aurocs)\n",
    "\n",
    "print(\"\\n--- Per-Fold Evaluation Summary (LoRA Virchow2) ---\")\n",
    "print(f\"Balanced Accuracy: {mean_bal_acc:.4f} ± {std_bal_acc:.4f}\")\n",
    "print(f\"AUROC: {mean_auroc:.4f} ± {std_auroc:.4f}\")\n",
    "\n",
    "# Save predictions\n",
    "output_path = \"virchow2_atnorm-br_test_predictions.pkl\"\n",
    "with open(output_path, \"wb\") as f:\n",
    "    pickle.dump(fold_probs_dict, f)\n",
    "\n",
    "print(f\"\\nSaved fold predictions and labels to: {output_path}\")\n"
   ]
  },
  {
   "cell_type": "markdown",
   "metadata": {},
   "source": [
    "## AtNorM-MD"
   ]
  },
  {
   "cell_type": "code",
   "execution_count": null,
   "metadata": {},
   "outputs": [
    {
     "name": "stderr",
     "output_type": "stream",
     "text": [
      "/tmp/ipykernel_21692/919948483.py:89: FutureWarning: You are using `torch.load` with `weights_only=False` (the current default value), which uses the default pickle module implicitly. It is possible to construct malicious pickle data which will execute arbitrary code during unpickling (See https://github.com/pytorch/pytorch/blob/main/SECURITY.md#untrusted-models for more details). In a future release, the default value for `weights_only` will be flipped to `True`. This limits the functions that could be executed during unpickling. Arbitrary objects will no longer be allowed to be loaded via this mode unless they are explicitly allowlisted by the user via `torch.serialization.add_safe_globals`. We recommend you start setting `weights_only=True` for any use case where you don't have full control of the loaded file. Please open an issue on GitHub for any issues related to this experimental feature.\n",
      "  model.load_state_dict(torch.load(path, map_location=device))\n",
      "Inference Fold 1: 100%|██████████| 132/132 [00:28<00:00,  4.61it/s]\n"
     ]
    },
    {
     "name": "stdout",
     "output_type": "stream",
     "text": [
      "\n",
      "Fold 1 - Balanced Accuracy: 0.7123, AUROC: 0.8289\n"
     ]
    },
    {
     "name": "stderr",
     "output_type": "stream",
     "text": [
      "Inference Fold 2: 100%|██████████| 132/132 [00:28<00:00,  4.61it/s]\n"
     ]
    },
    {
     "name": "stdout",
     "output_type": "stream",
     "text": [
      "\n",
      "Fold 2 - Balanced Accuracy: 0.7128, AUROC: 0.8514\n"
     ]
    },
    {
     "name": "stderr",
     "output_type": "stream",
     "text": [
      "Inference Fold 3: 100%|██████████| 132/132 [00:28<00:00,  4.65it/s]\n"
     ]
    },
    {
     "name": "stdout",
     "output_type": "stream",
     "text": [
      "\n",
      "Fold 3 - Balanced Accuracy: 0.7641, AUROC: 0.8570\n"
     ]
    },
    {
     "name": "stderr",
     "output_type": "stream",
     "text": [
      "Inference Fold 4: 100%|██████████| 132/132 [00:29<00:00,  4.52it/s]\n"
     ]
    },
    {
     "name": "stdout",
     "output_type": "stream",
     "text": [
      "\n",
      "Fold 4 - Balanced Accuracy: 0.7325, AUROC: 0.8364\n"
     ]
    },
    {
     "name": "stderr",
     "output_type": "stream",
     "text": [
      "Inference Fold 5: 100%|██████████| 132/132 [00:29<00:00,  4.51it/s]"
     ]
    },
    {
     "name": "stdout",
     "output_type": "stream",
     "text": [
      "\n",
      "Fold 5 - Balanced Accuracy: 0.7903, AUROC: 0.8780\n",
      "\n",
      "--- Per-Fold Evaluation Summary (LoRA Virchow2) ---\n",
      "Balanced Accuracy: 0.7424 ± 0.0305\n",
      "AUROC: 0.8503 ± 0.0171\n",
      "\n",
      "Saved fold predictions and labels to: virchow2_atnorm-md_test_predictions.pkl\n"
     ]
    },
    {
     "name": "stderr",
     "output_type": "stream",
     "text": [
      "\n"
     ]
    }
   ],
   "source": [
    "import os\n",
    "import torch\n",
    "import torch.nn as nn\n",
    "from torch.utils.data import Dataset, DataLoader\n",
    "from PIL import Image\n",
    "from tqdm import tqdm\n",
    "import numpy as np\n",
    "import pandas as pd\n",
    "from sklearn.metrics import balanced_accuracy_score, roc_auc_score\n",
    "from huggingface_hub import login\n",
    "from timm import create_model\n",
    "from timm.layers import SwiGLUPacked\n",
    "from torchvision import transforms\n",
    "from peft import LoraConfig, get_peft_model\n",
    "import pickle\n",
    "\n",
    "# Device setup\n",
    "device = torch.device(\"cuda\" if torch.cuda.is_available() else \"cpu\")\n",
    "\n",
    "# Hugging Face login\n",
    "login(token=\"your_huggingface_token_here\")  # Replace with your Hugging Face token\n",
    "\n",
    "# Image transform (same as val_transform from training)\n",
    "val_transform = transforms.Compose([\n",
    "    transforms.Resize(224),\n",
    "    transforms.CenterCrop(224),\n",
    "    transforms.ToTensor(),\n",
    "    transforms.Normalize(mean=(0.5, 0.5, 0.5), std=(0.5, 0.5, 0.5))\n",
    "])\n",
    "\n",
    "# Inference Dataset\n",
    "class InferenceDataset(Dataset):\n",
    "    def __init__(self, image_paths, labels, transform):\n",
    "        self.image_paths = image_paths\n",
    "        self.labels = labels\n",
    "        self.transform = transform\n",
    "\n",
    "    def __len__(self):\n",
    "        return len(self.image_paths)\n",
    "\n",
    "    def __getitem__(self, idx):\n",
    "        image = Image.open(self.image_paths[idx]).convert(\"RGB\")\n",
    "        image = self.transform(image)\n",
    "        label = torch.tensor(self.labels[idx], dtype=torch.float32).unsqueeze(0)\n",
    "        return image, label\n",
    "\n",
    "# LoRA Config (must match training config)\n",
    "lora_config = LoraConfig(\n",
    "    r=8,\n",
    "    lora_alpha=16,\n",
    "    target_modules=[\"qkv\", \"proj\", \"fc1\", \"fc2\"],\n",
    "    lora_dropout=0.3,\n",
    "    bias=\"none\",\n",
    "    modules_to_save=[\"head\"]\n",
    ")\n",
    "\n",
    "# Load test data\n",
    "test_root = \"/data/MELBA-AmiBr/Datasets_Stratified/AtNorM-MD\"\n",
    "class_map = {\"Atypical\": 0, \"Normal\": 1}\n",
    "image_paths, labels = [], []\n",
    "\n",
    "for class_name, label_val in class_map.items():\n",
    "    class_folder = os.path.join(test_root, class_name)\n",
    "    for fname in os.listdir(class_folder):\n",
    "        if fname.lower().endswith(('.jpg', '.jpeg', '.png', '.tif')):\n",
    "            image_paths.append(os.path.join(class_folder, fname))\n",
    "            labels.append(label_val)\n",
    "\n",
    "# Prepare dataset and dataloader\n",
    "test_dataset = InferenceDataset(image_paths, labels, val_transform)\n",
    "test_loader = DataLoader(test_dataset, batch_size=16, shuffle=False, num_workers=8, pin_memory=True)\n",
    "\n",
    "# Load trained LoRA models for each fold\n",
    "num_folds = 5\n",
    "model_paths = [f\"virchow2_lora_fold_{i + 1}_best.pth\" for i in range(num_folds)]\n",
    "models = []\n",
    "\n",
    "for path in model_paths:\n",
    "    base_model = create_model(\n",
    "        \"hf-hub:paige-ai/Virchow2\",\n",
    "        pretrained=True,\n",
    "        mlp_layer=SwiGLUPacked,\n",
    "        act_layer=torch.nn.SiLU\n",
    "    )\n",
    "    base_model.reset_classifier(num_classes=1)\n",
    "    base_model = base_model.to(device)\n",
    "\n",
    "    model = get_peft_model(base_model, lora_config)\n",
    "    model.load_state_dict(torch.load(path, map_location=device))\n",
    "    model.eval()\n",
    "    models.append(model)\n",
    "\n",
    "# Inference\n",
    "true_labels = np.array(labels)\n",
    "fold_bal_accs, fold_aurocs = [], []\n",
    "fold_probs_dict = {}\n",
    "\n",
    "for i, model in enumerate(models):\n",
    "    fold_probs = []\n",
    "\n",
    "    with torch.no_grad():\n",
    "        for images, _ in tqdm(test_loader, desc=f\"Inference Fold {i + 1}\"):\n",
    "            images = images.to(device)\n",
    "            outputs = model(images)\n",
    "\n",
    "            if outputs.ndim == 3:\n",
    "                outputs = outputs[:, 0]\n",
    "\n",
    "            if outputs.ndim == 1:\n",
    "                outputs = outputs.unsqueeze(1)\n",
    "            elif outputs.ndim == 2 and outputs.size(1) != 1:\n",
    "                outputs = outputs[:, :1]\n",
    "\n",
    "            probs = torch.sigmoid(outputs).squeeze(1).cpu().numpy()\n",
    "            fold_probs.extend(probs)\n",
    "\n",
    "    fold_probs = np.array(fold_probs)\n",
    "    fold_preds = (fold_probs > 0.5).astype(int)\n",
    "\n",
    "    bal_acc = balanced_accuracy_score(true_labels, fold_preds)\n",
    "    auroc = roc_auc_score(true_labels, fold_probs)\n",
    "\n",
    "    fold_bal_accs.append(bal_acc)\n",
    "    fold_aurocs.append(auroc)\n",
    "\n",
    "    print(f\"\\nFold {i + 1} - Balanced Accuracy: {bal_acc:.4f}, AUROC: {auroc:.4f}\")\n",
    "\n",
    "    fold_probs_dict[f\"fold_{i + 1}\"] = {\n",
    "        \"probs\": fold_probs,\n",
    "        \"preds\": fold_preds,\n",
    "        \"true_labels\": true_labels\n",
    "    }\n",
    "\n",
    "# Summary\n",
    "mean_bal_acc = np.mean(fold_bal_accs)\n",
    "std_bal_acc = np.std(fold_bal_accs)\n",
    "mean_auroc = np.mean(fold_aurocs)\n",
    "std_auroc = np.std(fold_aurocs)\n",
    "\n",
    "print(\"\\n--- Per-Fold Evaluation Summary (LoRA Virchow2) ---\")\n",
    "print(f\"Balanced Accuracy: {mean_bal_acc:.4f} ± {std_bal_acc:.4f}\")\n",
    "print(f\"AUROC: {mean_auroc:.4f} ± {std_auroc:.4f}\")\n",
    "\n",
    "# Save predictions\n",
    "output_path = \"virchow2_atnorm-md_test_predictions.pkl\"\n",
    "with open(output_path, \"wb\") as f:\n",
    "    pickle.dump(fold_probs_dict, f)\n",
    "\n",
    "print(f\"\\nSaved fold predictions and labels to: {output_path}\")\n"
   ]
  },
  {
   "cell_type": "code",
   "execution_count": null,
   "metadata": {},
   "outputs": [],
   "source": []
  },
  {
   "cell_type": "code",
   "execution_count": null,
   "metadata": {},
   "outputs": [],
   "source": []
  }
 ],
 "metadata": {
  "kernelspec": {
   "display_name": "melbaAmiBr",
   "language": "python",
   "name": "python3"
  },
  "language_info": {
   "codemirror_mode": {
    "name": "ipython",
    "version": 3
   },
   "file_extension": ".py",
   "mimetype": "text/x-python",
   "name": "python",
   "nbconvert_exporter": "python",
   "pygments_lexer": "ipython3",
   "version": "3.10.17"
  }
 },
 "nbformat": 4,
 "nbformat_minor": 2
}
